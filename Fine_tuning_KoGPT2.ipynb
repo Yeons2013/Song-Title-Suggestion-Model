{
  "cells": [
    {
      "cell_type": "code",
      "execution_count": null,
      "metadata": {
        "colab": {
          "base_uri": "https://localhost:8080/"
        },
        "id": "_yGvz9KMCKzJ",
        "outputId": "58d961b8-001f-4cda-90be-80cb1215290e"
      },
      "outputs": [
        {
          "name": "stdout",
          "output_type": "stream",
          "text": [
            "Mounted at /content/drive\n"
          ]
        }
      ],
      "source": [
        "from google.colab import drive\n",
        "drive.mount('/content/drive')"
      ]
    },
    {
      "cell_type": "markdown",
      "metadata": {
        "id": "4IGoQc7KCBnM"
      },
      "source": [
        "##import"
      ]
    },
    {
      "cell_type": "code",
      "execution_count": null,
      "metadata": {
        "colab": {
          "base_uri": "https://localhost:8080/"
        },
        "id": "cYbJ3g2iBvdG",
        "outputId": "57f6997c-8d17-4228-ec6f-c0b6c0e44b3b"
      },
      "outputs": [
        {
          "name": "stdout",
          "output_type": "stream",
          "text": [
            "Looking in indexes: https://pypi.org/simple, https://us-python.pkg.dev/colab-wheels/public/simple/\n",
            "Collecting transformers\n",
            "  Downloading transformers-4.22.1-py3-none-any.whl (4.9 MB)\n",
            "\u001b[K     |████████████████████████████████| 4.9 MB 12.5 MB/s \n",
            "\u001b[?25hCollecting tokenizers!=0.11.3,<0.13,>=0.11.1\n",
            "  Downloading tokenizers-0.12.1-cp37-cp37m-manylinux_2_12_x86_64.manylinux2010_x86_64.whl (6.6 MB)\n",
            "\u001b[K     |████████████████████████████████| 6.6 MB 57.7 MB/s \n",
            "\u001b[?25hRequirement already satisfied: tqdm>=4.27 in /usr/local/lib/python3.7/dist-packages (from transformers) (4.64.1)\n",
            "Requirement already satisfied: packaging>=20.0 in /usr/local/lib/python3.7/dist-packages (from transformers) (21.3)\n",
            "Requirement already satisfied: requests in /usr/local/lib/python3.7/dist-packages (from transformers) (2.23.0)\n",
            "Requirement already satisfied: numpy>=1.17 in /usr/local/lib/python3.7/dist-packages (from transformers) (1.21.6)\n",
            "Collecting huggingface-hub<1.0,>=0.9.0\n",
            "  Downloading huggingface_hub-0.9.1-py3-none-any.whl (120 kB)\n",
            "\u001b[K     |████████████████████████████████| 120 kB 71.5 MB/s \n",
            "\u001b[?25hRequirement already satisfied: importlib-metadata in /usr/local/lib/python3.7/dist-packages (from transformers) (4.12.0)\n",
            "Requirement already satisfied: filelock in /usr/local/lib/python3.7/dist-packages (from transformers) (3.8.0)\n",
            "Requirement already satisfied: regex!=2019.12.17 in /usr/local/lib/python3.7/dist-packages (from transformers) (2022.6.2)\n",
            "Requirement already satisfied: pyyaml>=5.1 in /usr/local/lib/python3.7/dist-packages (from transformers) (6.0)\n",
            "Requirement already satisfied: typing-extensions>=3.7.4.3 in /usr/local/lib/python3.7/dist-packages (from huggingface-hub<1.0,>=0.9.0->transformers) (4.1.1)\n",
            "Requirement already satisfied: pyparsing!=3.0.5,>=2.0.2 in /usr/local/lib/python3.7/dist-packages (from packaging>=20.0->transformers) (3.0.9)\n",
            "Requirement already satisfied: zipp>=0.5 in /usr/local/lib/python3.7/dist-packages (from importlib-metadata->transformers) (3.8.1)\n",
            "Requirement already satisfied: chardet<4,>=3.0.2 in /usr/local/lib/python3.7/dist-packages (from requests->transformers) (3.0.4)\n",
            "Requirement already satisfied: urllib3!=1.25.0,!=1.25.1,<1.26,>=1.21.1 in /usr/local/lib/python3.7/dist-packages (from requests->transformers) (1.24.3)\n",
            "Requirement already satisfied: idna<3,>=2.5 in /usr/local/lib/python3.7/dist-packages (from requests->transformers) (2.10)\n",
            "Requirement already satisfied: certifi>=2017.4.17 in /usr/local/lib/python3.7/dist-packages (from requests->transformers) (2022.6.15)\n",
            "Installing collected packages: tokenizers, huggingface-hub, transformers\n",
            "Successfully installed huggingface-hub-0.9.1 tokenizers-0.12.1 transformers-4.22.1\n"
          ]
        }
      ],
      "source": [
        "!pip install transformers"
      ]
    },
    {
      "cell_type": "code",
      "execution_count": null,
      "metadata": {
        "colab": {
          "base_uri": "https://localhost:8080/",
          "height": 105,
          "referenced_widgets": [
            "eaa8d809d9724ec08a12046e60e54402",
            "0c11a419a609480e8e74d4d060c57699",
            "dc0aac3936524b99b97ec3843c3044f3",
            "6fa97c61a42f434fa30995b85d39e7d8",
            "2110beedab4d41e784d5a5e4927510b4",
            "2799197e883043b9b09ffd72ef2b08a1",
            "3fd4d71744c949e493c1f8045f84e411",
            "a7e1060af12a4d83b3d25f816998185e",
            "493c980638534fffa0a4a9112c855e37",
            "c866f04bb05145dbaac93d23b0fd84be",
            "f6bb680548cc47b0bbd936b28e87bec6"
          ]
        },
        "id": "_nmaGV-ACP6Z",
        "outputId": "386436d3-4404-4a09-883c-511fa5fee074"
      },
      "outputs": [
        {
          "name": "stderr",
          "output_type": "stream",
          "text": [
            "The cache for model files in Transformers v4.22.0 has been updated. Migrating your old cache. This is a one-time only operation. You can interrupt this and resume the migration later on by calling `transformers.utils.move_cache()`.\n"
          ]
        },
        {
          "name": "stdout",
          "output_type": "stream",
          "text": [
            "Moving 0 files to the new cache system\n"
          ]
        },
        {
          "data": {
            "application/vnd.jupyter.widget-view+json": {
              "model_id": "eaa8d809d9724ec08a12046e60e54402",
              "version_major": 2,
              "version_minor": 0
            },
            "text/plain": [
              "0it [00:00, ?it/s]"
            ]
          },
          "metadata": {},
          "output_type": "display_data"
        }
      ],
      "source": [
        "import tensorflow as tf\n",
        "from transformers import AutoTokenizer\n",
        "from transformers import TFGPT2LMHeadModel"
      ]
    },
    {
      "cell_type": "code",
      "execution_count": null,
      "metadata": {
        "colab": {
          "base_uri": "https://localhost:8080/",
          "height": 242,
          "referenced_widgets": [
            "49436e28fecc4492a332194ed0ce2f6b",
            "9cbcfee599f040ce903e3245fcc6b400",
            "afb1053bee0a46b8acc3161767c2cd7c",
            "ade4eabeee97417a925940b8e82a3161",
            "909179fc7129440ea89edb16be7f0ec1",
            "fc3fae0f2bb34fbdac65890d24d13ef0",
            "7e00f510bac4499aa67e35d6a07692f7",
            "f97816ad5f0a45ff9808a7128fd0b61d",
            "ed05694758114d929f982a48420a1fd1",
            "455ff80914b84f7587583e957a8b9ce9",
            "be9de298fb3047cb86ab0dcc8de418e8",
            "0972d73307ad4a3987237f9cd461f6f6",
            "67e7c79b7b7c4345b7f6422ef700e71e",
            "71ec0c8e483d4c3ebc8d6721cdb6f452",
            "a90004e7360c4427a0fe67c60da89731",
            "45bff83deede4840878c0a355379c760",
            "183766002a6d451c9b64925875f9b7da",
            "3a3d015787ef49d98bb9ef202798ad9a",
            "9c157463f4894d87a23706753fbcc02f",
            "c236321642cd4450bbc1d72a32a0e7d4",
            "34371cbce7f346bdad616d7146531f62",
            "f9c4bfec98ca4a2081724a23049a82a3",
            "5e4575237a0f456eaa23395290a7bf02",
            "557f4b5e758044a89d246bb36382736c",
            "07d305a1eb924509a92bb78047329561",
            "d8eb61b320c44d48ab98666c1fafe926",
            "0925f05d9a014ad1935a7ed253484c7f",
            "3345dff1624541fbb6da6ad147601099",
            "d8f5fa5bcf4b469d8963dd2c38788f5e",
            "db07811157fa4a25a489aa775d9a302a",
            "73c05067bf6d4b2f8b3a27a70a4ef2dc",
            "6d0b8d1f77854d679b8975f6778b7f07",
            "0ce2fa290d8940219588534c12d8fa00"
          ]
        },
        "id": "UbswmQazCThk",
        "outputId": "0e8f610f-193f-43fc-e569-96e3366ee3a3"
      },
      "outputs": [
        {
          "data": {
            "application/vnd.jupyter.widget-view+json": {
              "model_id": "49436e28fecc4492a332194ed0ce2f6b",
              "version_major": 2,
              "version_minor": 0
            },
            "text/plain": [
              "Downloading:   0%|          | 0.00/1.00k [00:00<?, ?B/s]"
            ]
          },
          "metadata": {},
          "output_type": "display_data"
        },
        {
          "data": {
            "application/vnd.jupyter.widget-view+json": {
              "model_id": "0972d73307ad4a3987237f9cd461f6f6",
              "version_major": 2,
              "version_minor": 0
            },
            "text/plain": [
              "Downloading:   0%|          | 0.00/2.83M [00:00<?, ?B/s]"
            ]
          },
          "metadata": {},
          "output_type": "display_data"
        },
        {
          "name": "stderr",
          "output_type": "stream",
          "text": [
            "Special tokens have been added in the vocabulary, make sure the associated word embeddings are fine-tuned or trained.\n"
          ]
        },
        {
          "data": {
            "application/vnd.jupyter.widget-view+json": {
              "model_id": "5e4575237a0f456eaa23395290a7bf02",
              "version_major": 2,
              "version_minor": 0
            },
            "text/plain": [
              "Downloading:   0%|          | 0.00/513M [00:00<?, ?B/s]"
            ]
          },
          "metadata": {},
          "output_type": "display_data"
        },
        {
          "name": "stderr",
          "output_type": "stream",
          "text": [
            "Some weights of the PyTorch model were not used when initializing the TF 2.0 model TFGPT2LMHeadModel: ['transformer.h.11.attn.masked_bias', 'transformer.h.9.attn.masked_bias', 'transformer.h.0.attn.masked_bias', 'lm_head.weight', 'transformer.h.6.attn.masked_bias', 'transformer.h.10.attn.masked_bias', 'transformer.h.1.attn.masked_bias', 'transformer.h.8.attn.masked_bias', 'transformer.h.5.attn.masked_bias', 'transformer.h.3.attn.masked_bias', 'transformer.h.2.attn.masked_bias', 'transformer.h.4.attn.masked_bias', 'transformer.h.7.attn.masked_bias']\n",
            "- This IS expected if you are initializing TFGPT2LMHeadModel from a PyTorch model trained on another task or with another architecture (e.g. initializing a TFBertForSequenceClassification model from a BertForPreTraining model).\n",
            "- This IS NOT expected if you are initializing TFGPT2LMHeadModel from a PyTorch model that you expect to be exactly identical (e.g. initializing a TFBertForSequenceClassification model from a BertForSequenceClassification model).\n",
            "All the weights of TFGPT2LMHeadModel were initialized from the PyTorch model.\n",
            "If your task is similar to the task the model of the checkpoint was trained on, you can already use TFGPT2LMHeadModel for predictions without further training.\n"
          ]
        }
      ],
      "source": [
        "tokenizer = AutoTokenizer.from_pretrained('skt/kogpt2-base-v2', bos_token='</s>', eos_token='</s>', pad_token='<pad>')\n",
        "model = TFGPT2LMHeadModel.from_pretrained('skt/kogpt2-base-v2', from_pt=True)"
      ]
    },
    {
      "cell_type": "code",
      "execution_count": null,
      "metadata": {
        "colab": {
          "base_uri": "https://localhost:8080/"
        },
        "id": "YCdlZyw1_TJs",
        "outputId": "ba9bed54-3788-4be5-9a85-54c24ba54ee6"
      },
      "outputs": [
        {
          "name": "stderr",
          "output_type": "stream",
          "text": [
            "All model checkpoint layers were used when initializing TFGPT2LMHeadModel.\n",
            "\n",
            "All the layers of TFGPT2LMHeadModel were initialized from the model checkpoint at /content/drive/MyDrive/trans_koreng_project/KoGPT2/model_title_lyric.\n",
            "If your task is similar to the task the model of the checkpoint was trained on, you can already use TFGPT2LMHeadModel for predictions without further training.\n"
          ]
        }
      ],
      "source": [
        "model =  TFGPT2LMHeadModel.from_pretrained('/content/drive/MyDrive/trans_koreng_project/KoGPT2/model_title_lyric')"
      ]
    },
    {
      "cell_type": "code",
      "execution_count": null,
      "metadata": {
        "id": "o63Uxcy8NWZ2"
      },
      "outputs": [],
      "source": [
        "from transformers import AutoConfig\n",
        "config = AutoConfig.from_pretrained(\"skt/kogpt2-base-v2\")"
      ]
    },
    {
      "cell_type": "code",
      "execution_count": null,
      "metadata": {
        "id": "aapf4dT-DCBa"
      },
      "outputs": [],
      "source": [
        "import pandas as pd\n",
        "import tqdm\n",
        "import urllib.request"
      ]
    },
    {
      "cell_type": "markdown",
      "metadata": {
        "id": "AdAQlIL9DETG"
      },
      "source": [
        "## 데이터 가져오기"
      ]
    },
    {
      "cell_type": "code",
      "execution_count": null,
      "metadata": {
        "id": "_iqHrkTJDWI8"
      },
      "outputs": [],
      "source": [
        "df = pd.read_csv(\"/content/drive/MyDrive/trans_koreng_project/전처리/최종전처리(문자열버전).csv\", index_col=False)\n",
        "df\n",
        "df['title'].nunique(), df['lyric'].nunique()\n",
        "df.drop_duplicates(subset=['lyric'], inplace=True)\n",
        "df.dropna(inplace=True)\n",
        "\n",
        "lyric_list = df['lyric'].tolist()\n",
        "title_list = df['title'].tolist()"
      ]
    },
    {
      "cell_type": "code",
      "execution_count": null,
      "metadata": {
        "colab": {
          "base_uri": "https://localhost:8080/",
          "height": 424
        },
        "id": "LxsU9B4b_iMe",
        "outputId": "cccf835c-5b8f-4921-8ab6-edc1738e46b5"
      },
      "outputs": [
        {
          "data": {
            "text/html": [
              "\n",
              "  <div id=\"df-9098a844-0008-4e6b-b61b-4815b534b0a5\">\n",
              "    <div class=\"colab-df-container\">\n",
              "      <div>\n",
              "<style scoped>\n",
              "    .dataframe tbody tr th:only-of-type {\n",
              "        vertical-align: middle;\n",
              "    }\n",
              "\n",
              "    .dataframe tbody tr th {\n",
              "        vertical-align: top;\n",
              "    }\n",
              "\n",
              "    .dataframe thead th {\n",
              "        text-align: right;\n",
              "    }\n",
              "</style>\n",
              "<table border=\"1\" class=\"dataframe\">\n",
              "  <thead>\n",
              "    <tr style=\"text-align: right;\">\n",
              "      <th></th>\n",
              "      <th>Unnamed: 0</th>\n",
              "      <th>title</th>\n",
              "      <th>lyric</th>\n",
              "    </tr>\n",
              "  </thead>\n",
              "  <tbody>\n",
              "    <tr>\n",
              "      <th>0</th>\n",
              "      <td>0</td>\n",
              "      <td>천만 분 의 확률 의 너</td>\n",
              "      <td>너 를 만나 기 위해 모든 시간 들 을 모래시계 에 다 넣 어 놓 고서 우리 둘 만...</td>\n",
              "    </tr>\n",
              "    <tr>\n",
              "      <th>1</th>\n",
              "      <td>1</td>\n",
              "      <td>술 이 뭐 길래</td>\n",
              "      <td>오늘 도 이렇게 어제 처럼 잔 을 꺼내 나 혼자 서 따른 잔 에 내 입술 을 기대 ...</td>\n",
              "    </tr>\n",
              "    <tr>\n",
              "      <th>2</th>\n",
              "      <td>2</td>\n",
              "      <td>그때 그 순간 그대로</td>\n",
              "      <td>잘 지냈 지 조금 은 어색 해 요즘 좋 아 보여 인사 나누 며 사실 궁금 한 게 너...</td>\n",
              "    </tr>\n",
              "    <tr>\n",
              "      <th>3</th>\n",
              "      <td>3</td>\n",
              "      <td>나 의 에 게</td>\n",
              "      <td>우리 다시 만날래 예쁘 게 빛나 던 모든 추억 들 이 너무 그리워 너 의 품 에 안...</td>\n",
              "    </tr>\n",
              "    <tr>\n",
              "      <th>4</th>\n",
              "      <td>4</td>\n",
              "      <td>일 과 이분 의 일</td>\n",
              "      <td>멀리서 널 보 았 을 때 다른 길 로 갈까 생각 했 는데 변한 듯 한 널 보 고 싶...</td>\n",
              "    </tr>\n",
              "    <tr>\n",
              "      <th>...</th>\n",
              "      <td>...</td>\n",
              "      <td>...</td>\n",
              "      <td>...</td>\n",
              "    </tr>\n",
              "    <tr>\n",
              "      <th>112325</th>\n",
              "      <td>152629</td>\n",
              "      <td>나 를 둘러싼 기막힌 환경 이</td>\n",
              "      <td>나 를 둘러싼 기막힌 환경 이 변하 지 않 는다 해도 나 는 주 의 이름 을 영원히...</td>\n",
              "    </tr>\n",
              "    <tr>\n",
              "      <th>112326</th>\n",
              "      <td>152631</td>\n",
              "      <td>제 장 나 의 사랑 하 는 책</td>\n",
              "      <td>나 의 사랑 하 는 책 비록 해 어 졌으나 어머님 의 무릎 위 에 앉 아서 재미있 ...</td>\n",
              "    </tr>\n",
              "    <tr>\n",
              "      <th>112327</th>\n",
              "      <td>152636</td>\n",
              "      <td>난 네</td>\n",
              "      <td>나 를 원해 이리로 이리 온 유난 떨 지 마 그만 원한다면 솔직 해져 봐 와서 가져...</td>\n",
              "    </tr>\n",
              "    <tr>\n",
              "      <th>112328</th>\n",
              "      <td>152637</td>\n",
              "      <td>제 장 주 여 나 의 병든 몸 을</td>\n",
              "      <td>주 여 나 의 병든 몸 을 지금 고쳐 주 소서 모든 병 을 고쳐 주마 주 약속 하 ...</td>\n",
              "    </tr>\n",
              "    <tr>\n",
              "      <th>112329</th>\n",
              "      <td>152638</td>\n",
              "      <td>너 는 아빠 나 는 엄마</td>\n",
              "      <td>어릴 때 소꿉친구 너 는 아빠 나 는 엄마 각시 풀 핀 언덕 에 오손도손 정답 더니...</td>\n",
              "    </tr>\n",
              "  </tbody>\n",
              "</table>\n",
              "<p>112330 rows × 3 columns</p>\n",
              "</div>\n",
              "      <button class=\"colab-df-convert\" onclick=\"convertToInteractive('df-9098a844-0008-4e6b-b61b-4815b534b0a5')\"\n",
              "              title=\"Convert this dataframe to an interactive table.\"\n",
              "              style=\"display:none;\">\n",
              "        \n",
              "  <svg xmlns=\"http://www.w3.org/2000/svg\" height=\"24px\"viewBox=\"0 0 24 24\"\n",
              "       width=\"24px\">\n",
              "    <path d=\"M0 0h24v24H0V0z\" fill=\"none\"/>\n",
              "    <path d=\"M18.56 5.44l.94 2.06.94-2.06 2.06-.94-2.06-.94-.94-2.06-.94 2.06-2.06.94zm-11 1L8.5 8.5l.94-2.06 2.06-.94-2.06-.94L8.5 2.5l-.94 2.06-2.06.94zm10 10l.94 2.06.94-2.06 2.06-.94-2.06-.94-.94-2.06-.94 2.06-2.06.94z\"/><path d=\"M17.41 7.96l-1.37-1.37c-.4-.4-.92-.59-1.43-.59-.52 0-1.04.2-1.43.59L10.3 9.45l-7.72 7.72c-.78.78-.78 2.05 0 2.83L4 21.41c.39.39.9.59 1.41.59.51 0 1.02-.2 1.41-.59l7.78-7.78 2.81-2.81c.8-.78.8-2.07 0-2.86zM5.41 20L4 18.59l7.72-7.72 1.47 1.35L5.41 20z\"/>\n",
              "  </svg>\n",
              "      </button>\n",
              "      \n",
              "  <style>\n",
              "    .colab-df-container {\n",
              "      display:flex;\n",
              "      flex-wrap:wrap;\n",
              "      gap: 12px;\n",
              "    }\n",
              "\n",
              "    .colab-df-convert {\n",
              "      background-color: #E8F0FE;\n",
              "      border: none;\n",
              "      border-radius: 50%;\n",
              "      cursor: pointer;\n",
              "      display: none;\n",
              "      fill: #1967D2;\n",
              "      height: 32px;\n",
              "      padding: 0 0 0 0;\n",
              "      width: 32px;\n",
              "    }\n",
              "\n",
              "    .colab-df-convert:hover {\n",
              "      background-color: #E2EBFA;\n",
              "      box-shadow: 0px 1px 2px rgba(60, 64, 67, 0.3), 0px 1px 3px 1px rgba(60, 64, 67, 0.15);\n",
              "      fill: #174EA6;\n",
              "    }\n",
              "\n",
              "    [theme=dark] .colab-df-convert {\n",
              "      background-color: #3B4455;\n",
              "      fill: #D2E3FC;\n",
              "    }\n",
              "\n",
              "    [theme=dark] .colab-df-convert:hover {\n",
              "      background-color: #434B5C;\n",
              "      box-shadow: 0px 1px 3px 1px rgba(0, 0, 0, 0.15);\n",
              "      filter: drop-shadow(0px 1px 2px rgba(0, 0, 0, 0.3));\n",
              "      fill: #FFFFFF;\n",
              "    }\n",
              "  </style>\n",
              "\n",
              "      <script>\n",
              "        const buttonEl =\n",
              "          document.querySelector('#df-9098a844-0008-4e6b-b61b-4815b534b0a5 button.colab-df-convert');\n",
              "        buttonEl.style.display =\n",
              "          google.colab.kernel.accessAllowed ? 'block' : 'none';\n",
              "\n",
              "        async function convertToInteractive(key) {\n",
              "          const element = document.querySelector('#df-9098a844-0008-4e6b-b61b-4815b534b0a5');\n",
              "          const dataTable =\n",
              "            await google.colab.kernel.invokeFunction('convertToInteractive',\n",
              "                                                     [key], {});\n",
              "          if (!dataTable) return;\n",
              "\n",
              "          const docLinkHtml = 'Like what you see? Visit the ' +\n",
              "            '<a target=\"_blank\" href=https://colab.research.google.com/notebooks/data_table.ipynb>data table notebook</a>'\n",
              "            + ' to learn more about interactive tables.';\n",
              "          element.innerHTML = '';\n",
              "          dataTable['output_type'] = 'display_data';\n",
              "          await google.colab.output.renderOutput(dataTable, element);\n",
              "          const docLink = document.createElement('div');\n",
              "          docLink.innerHTML = docLinkHtml;\n",
              "          element.appendChild(docLink);\n",
              "        }\n",
              "      </script>\n",
              "    </div>\n",
              "  </div>\n",
              "  "
            ],
            "text/plain": [
              "        Unnamed: 0               title  \\\n",
              "0                0       천만 분 의 확률 의 너   \n",
              "1                1            술 이 뭐 길래   \n",
              "2                2         그때 그 순간 그대로   \n",
              "3                3             나 의 에 게   \n",
              "4                4          일 과 이분 의 일   \n",
              "...            ...                 ...   \n",
              "112325      152629    나 를 둘러싼 기막힌 환경 이   \n",
              "112326      152631    제 장 나 의 사랑 하 는 책   \n",
              "112327      152636                 난 네   \n",
              "112328      152637  제 장 주 여 나 의 병든 몸 을   \n",
              "112329      152638       너 는 아빠 나 는 엄마   \n",
              "\n",
              "                                                    lyric  \n",
              "0       너 를 만나 기 위해 모든 시간 들 을 모래시계 에 다 넣 어 놓 고서 우리 둘 만...  \n",
              "1       오늘 도 이렇게 어제 처럼 잔 을 꺼내 나 혼자 서 따른 잔 에 내 입술 을 기대 ...  \n",
              "2       잘 지냈 지 조금 은 어색 해 요즘 좋 아 보여 인사 나누 며 사실 궁금 한 게 너...  \n",
              "3       우리 다시 만날래 예쁘 게 빛나 던 모든 추억 들 이 너무 그리워 너 의 품 에 안...  \n",
              "4       멀리서 널 보 았 을 때 다른 길 로 갈까 생각 했 는데 변한 듯 한 널 보 고 싶...  \n",
              "...                                                   ...  \n",
              "112325  나 를 둘러싼 기막힌 환경 이 변하 지 않 는다 해도 나 는 주 의 이름 을 영원히...  \n",
              "112326  나 의 사랑 하 는 책 비록 해 어 졌으나 어머님 의 무릎 위 에 앉 아서 재미있 ...  \n",
              "112327  나 를 원해 이리로 이리 온 유난 떨 지 마 그만 원한다면 솔직 해져 봐 와서 가져...  \n",
              "112328  주 여 나 의 병든 몸 을 지금 고쳐 주 소서 모든 병 을 고쳐 주마 주 약속 하 ...  \n",
              "112329  어릴 때 소꿉친구 너 는 아빠 나 는 엄마 각시 풀 핀 언덕 에 오손도손 정답 더니...  \n",
              "\n",
              "[112330 rows x 3 columns]"
            ]
          },
          "execution_count": 18,
          "metadata": {},
          "output_type": "execute_result"
        }
      ],
      "source": [
        "df"
      ]
    },
    {
      "cell_type": "code",
      "execution_count": null,
      "metadata": {
        "colab": {
          "base_uri": "https://localhost:8080/"
        },
        "id": "zyR_4eVKH5NZ",
        "outputId": "5bd1f474-1e8d-4372-eec1-f377bd477d0a"
      },
      "outputs": [
        {
          "data": {
            "text/plain": [
              "(112330, 112330, 112330)"
            ]
          },
          "execution_count": 8,
          "metadata": {},
          "output_type": "execute_result"
        }
      ],
      "source": [
        "len(lyric_list), len(title_list), len(df)"
      ]
    },
    {
      "cell_type": "code",
      "execution_count": null,
      "metadata": {
        "colab": {
          "base_uri": "https://localhost:8080/"
        },
        "id": "YesZ_fxyOO6j",
        "outputId": "7f05a91b-394a-49cd-b55e-b6fc9f3e1b8d"
      },
      "outputs": [
        {
          "data": {
            "text/plain": [
              "102"
            ]
          },
          "execution_count": 10,
          "metadata": {},
          "output_type": "execute_result"
        }
      ],
      "source": [
        "len(tokenizer.encode(df['lyric'][0]))"
      ]
    },
    {
      "cell_type": "code",
      "execution_count": null,
      "metadata": {
        "colab": {
          "base_uri": "https://localhost:8080/"
        },
        "id": "Op7AYIF2Np59",
        "outputId": "21e555e9-9373-4ecd-8ec8-1ba5935909ae"
      },
      "outputs": [
        {
          "data": {
            "text/plain": [
              "639"
            ]
          },
          "execution_count": 82,
          "metadata": {},
          "output_type": "execute_result"
        }
      ],
      "source": [
        "df['len'] = df['lylic'].apply(lambda x : len(tokenizer.encode(x)))\n",
        "df['len'].max()"
      ]
    },
    {
      "cell_type": "markdown",
      "metadata": {
        "id": "eJGy820jDpL2"
      },
      "source": [
        "## 데이터셋"
      ]
    },
    {
      "cell_type": "code",
      "execution_count": null,
      "metadata": {
        "id": "rexpdKgdIFZA"
      },
      "outputs": [],
      "source": [
        "batch_size = 1 #@param {type:\"slider\", min:1, max:1000, step:1}"
      ]
    },
    {
      "cell_type": "code",
      "execution_count": null,
      "metadata": {
        "id": "kDr9g3JcD3KS"
      },
      "outputs": [],
      "source": [
        "def get_data():\n",
        "  for question, answer in zip(title_list, lyric_list):\n",
        "    bos_token = [tokenizer.bos_token_id]\n",
        "    eos_token = [tokenizer.eos_token_id]\n",
        "    sent = tokenizer.encode('<title>' + question + '<lyric>' + answer) \n",
        "    yield bos_token + sent + eos_token"
      ]
    },
    {
      "cell_type": "code",
      "execution_count": null,
      "metadata": {
        "id": "6TWkNxOPEGSx"
      },
      "outputs": [],
      "source": [
        "dataset = tf.data.Dataset.from_generator(get_data, output_types=tf.int32)\n",
        "dataset = dataset.padded_batch(batch_size=batch_size, padded_shapes=(None,), padding_values=tokenizer.pad_token_id)"
      ]
    },
    {
      "cell_type": "code",
      "execution_count": null,
      "metadata": {
        "colab": {
          "base_uri": "https://localhost:8080/"
        },
        "id": "V6kRK-2lELfn",
        "outputId": "df375e18-0959-4149-b250-900a558229fc"
      },
      "outputs": [
        {
          "name": "stdout",
          "output_type": "stream",
          "text": [
            "tf.Tensor(\n",
            "[[    1  9724 18944 19966   405  9769 11130  9769 11130  9769 11130  9769\n",
            "  11130  9769  9524  8159 10372   739  7314 11130  9193  7607  8265 46165\n",
            "  16518 11396  7561   739  7448  9106  8117 11446  9154  8024  9118  7889\n",
            "   8711 10099  7100  9145 44928 25009  9730  8813  9054 30264  8006 15740\n",
            "  13843  9018 20294   739  8816  8708  7959  8022  9094 10329  6903 10408\n",
            "    739  7088 20260  7679  9548 10137  9376  7767  8702  7198  9769  9080\n",
            "   9524  8159 10372  6866 12250 24959 50739 13673 50610  9046 12271   739\n",
            "   7088 18995 11689 33902 17582  9784  8017 16179  6969 49349  9443 26860\n",
            "   9673 13158  7489 29144  7235   739  7088 43860  8303  9873  9724  9768\n",
            "    458 10397 28885     1]], shape=(1, 112), dtype=int32)\n"
          ]
        }
      ],
      "source": [
        "for batch in dataset:\n",
        "    print(batch)\n",
        "    break"
      ]
    },
    {
      "cell_type": "code",
      "execution_count": null,
      "metadata": {
        "colab": {
          "base_uri": "https://localhost:8080/",
          "height": 144
        },
        "id": "Ul985MrtERnj",
        "outputId": "7067635a-d66e-43ab-ab75-c6dacbf8807e"
      },
      "outputs": [
        {
          "data": {
            "application/vnd.google.colaboratory.intrinsic+json": {
              "type": "string"
            },
            "text/plain": [
              "'</s> <lyric>너 를 만나 기 위해 모든 시간 들 을 모래시계 에 다 넣 어 놓 고서 우리 둘 만 의 이야기 를 나눌 거 야 기억 을 건너 그 순간 그때 널 만날 수 있 게 되 면 아마도 기적 과 같 은 일 이 아닐까 멈춰 버린 내 시간 속 에서 마침내 너 를 발견 한 건 천만 분 의 수많 은 시행착오 그 끝 에 마지막 이 라고 생각 한 그때 우연 이 아닌 운명 처럼 모든 게 딱 맞아떨어진 그때 흐려진 시야 속 짙 게 밴 네 향 이 이끌 어 너 에게 자석 처럼 당겨 세 게 그곳 에 더 닿 을 게 붉 게 물들 어 이곳 엔 언제나 그랬 듯 내겐 아프 더라도 난 괜찮 아 오직 너 니까 우리 둘 만 의 이야기 를 나눌 거 야 기억 을 건너 그 순간 그때 널 만날 수 있 게 되 면 아마도 기적 과 같 은 일 이 아닐까 멈춰 버린 내 시간 속 에서 마침내 너 를 발견 한 건 천만 분 의 우리 만남 을 위해 사계절 을 달려 달력 을 다 찢 어 내 수많 은 인파 속 숨 어 있 던 꽃 그게 너 였 기 에 빛 이나 더 빛 이나 화려 함 보단 익숙 한 곳 변하 지 않 을 수 있 을까 그 순간 그때 널 만날 수 있 게 되 면 빛바랜 사진 속 웃 고 있 는 우리 둘 추억 이 라 말 할 수 있 는 그런 날 이 오 길 그때 의 온도 그때 의 하늘 노을빛 마저 기억 할 수 있 을까<title>천만 분 의 확률 의 너</s>'"
            ]
          },
          "execution_count": 14,
          "metadata": {},
          "output_type": "execute_result"
        }
      ],
      "source": [
        "tokenizer.decode(batch[0])"
      ]
    },
    {
      "cell_type": "code",
      "execution_count": null,
      "metadata": {
        "colab": {
          "base_uri": "https://localhost:8080/"
        },
        "id": "TXiHKf_lEwSH",
        "outputId": "cc67603d-508f-4327-c8e1-e336be359d6c"
      },
      "outputs": [
        {
          "name": "stdout",
          "output_type": "stream",
          "text": [
            "tf.Tensor(\n",
            "[    1  9724 18944 19966   405 10403 28890   463 11780 13649 18872   457\n",
            " 10403 28890   463 11849  9610 14197  9792 10099  7470 11667  6958  9207\n",
            "  9548 10135  9261 12897  7888 11094  9054 12726 12700  7788  9351  9710\n",
            " 12665 14240 14742  9122  7991 14337  8137 11582  9022 18814 12858  9965\n",
            " 25891  9025 10541 11903 17289  9032 19313  9239 11334 20430  6969 18739\n",
            "  8405 24520  9094 10135 10809 12378 10099  7470 19108  9193  9345  7489\n",
            " 11926  9020 11605  9747  8336  8052  9022 11408 10780  9383 24455 12858\n",
            "  9132 19568 11039 28016  9582  9548 10137 16317 15247  7323 10024 12858\n",
            " 50859  8265  9039  7991  9238 48689 16241  9873 32752 18507 10099  9134\n",
            "  9042  7789  9582  9162  6874  9088  6866 18029  9267 17367  8137  6866\n",
            " 33655  9169  9205  9853  8024 16899 37202  7289  9094  6867 30040 12228\n",
            "  9769   739  6910  8338  7965 15538 10099 23775  9351  9710 12665 14240\n",
            " 14742  9122  7991 14337  8137 11582  9022 18814 12858  9965 25891  9025\n",
            " 10541 11903 17289  9032 19313  9239 11334 20430  6969 18739  8405 24520\n",
            "  9094 10135 10809 12378 10099  7470 19108  9193  9345  7489 11926  9020\n",
            "  9351 25366  8137  9207 50352 13802 12476  9271  9492  9054 26564  8006\n",
            "  7071 11605  9060  8615  9238 20619  8155  7210  9718  9022  6866 10099\n",
            "  8041  9399 10503  9185  9267 10503  9185 12274  8707  7652  7185 42733\n",
            "  9476 24427 11823  9025  9846  6969  9022 18814 12858  9965 25891  9025\n",
            " 10541 11903 10503  7596  7385 12224  9238 14042  6889  9080  9351  9710\n",
            " 31656  9131 16732  9025  9080 10185 20767  9114  6962 49813 16202 49813\n",
            " 11091  9153  8137  7702 15648 14337  8705  9025  9846  6969   739  9724\n",
            "  9768   458 10397   405  8361  7489 11926 32225 30110  8143 10099   739\n",
            "     1], shape=(277,), dtype=int32)\n"
          ]
        }
      ],
      "source": [
        "print(batch[0])"
      ]
    },
    {
      "cell_type": "code",
      "execution_count": null,
      "metadata": {
        "colab": {
          "base_uri": "https://localhost:8080/"
        },
        "id": "2V7itJgpE-es",
        "outputId": "1e812195-aa26-4732-d961-e9ba618f8416"
      },
      "outputs": [
        {
          "name": "stdout",
          "output_type": "stream",
          "text": [
            "steps :  112330 , len(df) :  112330\n"
          ]
        }
      ],
      "source": [
        "adam = tf.keras.optimizers.Adam(learning_rate=3e-5, epsilon=1e-08)\n",
        "steps = len(df) // batch_size\n",
        "print(\"steps : \",steps, \", len(df) : \",len(df))"
      ]
    },
    {
      "cell_type": "markdown",
      "metadata": {
        "id": "TZlIwFnRFXHf"
      },
      "source": [
        "## gradient tape 설정"
      ]
    },
    {
      "cell_type": "code",
      "execution_count": null,
      "metadata": {
        "colab": {
          "background_save": true,
          "base_uri": "https://localhost:8080/",
          "height": 103,
          "referenced_widgets": [
            "c4981b15961a4670bfcb41b37ead8ee9",
            "b698c3bd7a4a4e78b950edab8f3e5926",
            "fb5cf69961f04bd3b6e0bab11cef8493",
            "b2c8424e24ff482da2dd19a1106d2f77",
            "ee916104d61841df9cc4008a5acf81cf",
            "113b048b8023450ea37ab9d016ea0d2f",
            "616f2dcbe920431d8bed523670c210db",
            "3e8c18cb78b8445289050cf391a75ba5",
            "1ddd0bbebb544c26a83d0a1e1267af44",
            "b55ce99bc87743ffacf3b5e9940c92e8",
            "a1fc3e8069694ca5bdfa092ef8d4c9de"
          ]
        },
        "id": "hmw9BEWnE_JH",
        "outputId": "23b0c22f-9b31-4e4f-bee8-e4c2c098416f"
      },
      "outputs": [
        {
          "name": "stderr",
          "output_type": "stream",
          "text": [
            "/usr/local/lib/python3.7/dist-packages/ipykernel_launcher.py:6: TqdmDeprecationWarning: This function will be removed in tqdm==5.0.0\n",
            "Please use `tqdm.notebook.tqdm` instead of `tqdm.tqdm_notebook`\n",
            "  \n"
          ]
        },
        {
          "data": {
            "application/vnd.jupyter.widget-view+json": {
              "model_id": "c4981b15961a4670bfcb41b37ead8ee9",
              "version_major": 2,
              "version_minor": 0
            },
            "text/plain": [
              "  0%|          | 0/112330 [00:00<?, ?it/s]"
            ]
          },
          "metadata": {},
          "output_type": "display_data"
        }
      ],
      "source": [
        "EPOCHS = 74 #@param {type:\"slider\", min:1, max:100, step:1}\n",
        "\n",
        "for epoch in range(EPOCHS):\n",
        "  epoch_loss = 0\n",
        "\n",
        "  for batch in tqdm.tqdm_notebook(dataset, total=steps):\n",
        "      with tf.GradientTape() as tape:\n",
        "          result = model(batch, labels=batch)  # result랑 loss 값 확인\n",
        "          loss = result[0]\n",
        "          batch_loss = tf.reduce_mean(loss)\n",
        "          \n",
        "      grads = tape.gradient(batch_loss, model.trainable_variables)\n",
        "      adam.apply_gradients(zip(grads, model.trainable_variables))\n",
        "      epoch_loss += batch_loss / steps\n",
        "\n",
        "  print('[Epoch: {:>4}] cost = {:>.9}'.format(epoch + 1, epoch_loss))\n"
      ]
    },
    {
      "cell_type": "code",
      "execution_count": null,
      "metadata": {
        "id": "KDySrh1ipykV"
      },
      "outputs": [],
      "source": [
        "# 모델 세이브\n",
        "model.save_pretrained('/content/drive/MyDrive/trans_koreng_project/KoGPT2/model_title_lyric_2')"
      ]
    },
    {
      "cell_type": "code",
      "execution_count": null,
      "metadata": {
        "id": "eWPk7yiHGEQw"
      },
      "outputs": [],
      "source": [
        "num_beams = 3 #@param {type:\"slider\", min:3, max:50, step:1}\n",
        "min_length = 5 #@param {type:\"slider\", min:5, max:1000, step:1}\n",
        "MAX_length = 1000 #@param {type:\"slider\", min:1, max:10000, step:1}\n",
        "\n",
        "def return_title_predict(user_text):\n",
        "  sent = '<title>' + user_text + '<lyric>'\n",
        "  input_ids = [tokenizer.bos_token_id] + tokenizer.encode(sent)\n",
        "  input_ids = tf.convert_to_tensor([input_ids])\n",
        "  output = model.generate(input_ids, max_length=MAX_length, do_sample=True, top_k=20)\n",
        "  sentence = tokenizer.decode(output[0].numpy().tolist())\n",
        "  title_predict = sentence.split('<lyric>')[1].replace('</s>', '')\n",
        "  return title_predict"
      ]
    },
    {
      "cell_type": "markdown",
      "source": [
        "# **가사에서 제목 추천**"
      ],
      "metadata": {
        "id": "sDK4j9RNddO6"
      }
    },
    {
      "cell_type": "code",
      "execution_count": null,
      "metadata": {
        "colab": {
          "base_uri": "https://localhost:8080/",
          "height": 35
        },
        "id": "XrjZDSMpE7QS",
        "outputId": "c6b11436-3541-40c6-dc51-e18758c3b2e4"
      },
      "outputs": [
        {
          "data": {
            "application/vnd.google.colaboratory.intrinsic+json": {
              "type": "string"
            },
            "text/plain": [
              "'조금 이따 샤워'"
            ]
          },
          "execution_count": 160,
          "metadata": {},
          "output_type": "execute_result"
        }
      ],
      "source": [
        "return_title_predict(\"\"\"조금 이따 샤워해 이대로\n",
        "더 나를 안아줘\n",
        "이렇게 니 품에서 얘기 하고파\n",
        "조금 이따 샤워해 이대로\n",
        "더 나를 안아줘\n",
        "이렇게 니 품에서 장난 치고파\n",
        "작지만 귀여운 너의 가슴이\n",
        "난 좋아\n",
        "니 머리카락 넘겨줄 때 손에\n",
        "닿는 이마\n",
        "내 몸 위에 올라 날 바라보는\n",
        "그 눈동자\n",
        "조명 아래 살짝 비친 하얀\n",
        "살결의 빛깔\n",
        "날 미치게 하는 이 못된 여자\n",
        "때론 너와 사랑할 때 난 3\n",
        "년 만에\n",
        "집에 온 뱃사람 같아\n",
        "니가 날 거칠게 만드니까\n",
        "침대는 바다가 되고 우린 헤엄쳐\n",
        "서로의 상처를 치유하듯\n",
        "부드럽게 어루만져\n",
        "세상 가장 깨끗한 너의 품에 안겨\n",
        "내 더렵혀진 영혼을 다 씻어\n",
        "이대로 더 있어\n",
        "격렬하게 사랑하고서 땀에\n",
        "젖은 채 둘이 누워서\n",
        "오늘 어땠냐고 묻는 너에게\n",
        "난 끝내줘 끝내줘 끝내줘\n",
        "우린 옷 벗고 사랑한 사이\n",
        "더 이상 숨길 것 없어 세상\n",
        "가장 친한 사이\n",
        "학벌 배경 차이 그런 거 따위\n",
        "신경 안 써 서로 딱 원하\n",
        "는 타입\n",
        "서두르지마 오늘 밤은 깍지를\n",
        "끼듯이 너의 허벅질 내\n",
        "다리에 끼고 살을\n",
        "다 맞대고 삶을 말하고 싶어\n",
        "오늘 하루 어땠는지 다른\n",
        "별일은 없었는지\n",
        "늘 궁금해 난 니가 지금 이순간\n",
        "나에겐 너무나 큰 낭만\n",
        "삶의 난관 나의 방황 선과 악\n",
        "그 모든 것이 다 두렵지 않아\n",
        "너와 내가 함께 있는 이순간\n",
        "오로지 평화\n",
        "조금 이따 샤워해 이대로 더\n",
        "나를 안아줘\n",
        "이렇게 니 품에서 얘기 하고파\n",
        "조금 이따 샤워해 이대로 더\n",
        "나를 안아줘\n",
        "이렇게 니 품에서 장난 치고파\n",
        "어둠 속에 보일 듯 말듯한 너의\n",
        "실루엣 너의 실루엣\n",
        "나를 감고 있는 너의 두 다리는\n",
        "끝내줘 끝내줘 끝내줘\n",
        "가끔은 내 앞에서 아직도\n",
        "부끄러워하는 너\n",
        "난 니가 절대 안 질려 여전히\n",
        "끌려 분명 우린 절대적 운명\n",
        "찬 바람 불면 니 얼굴을\n",
        "내 가슴에\n",
        "묻어버리듯 딱 붙어\n",
        "나도 알어 때론 너도 힘이 들텐데\n",
        "니 남자 기죽어 보이는 거 싫어\n",
        "널 허락하는걸 너란 여자 참\n",
        "아름다워 늘 미안하지만\n",
        "또 사랑스러워\n",
        "나 혼자 남겨두지마 모든 게\n",
        "완벽한 지금 이 순간\n",
        "하얀 천사가 내 옆에 누워있네\n",
        "날 바라보는 너의 두 눈에\n",
        "살며시 키스해\n",
        "조금 이따 샤워해 이대로 더\n",
        "나를 안아줘\n",
        "이렇게 니 품에서 얘기 하고파\n",
        "조금 이따 샤워해 이대로 더\n",
        "나를 안아줘\n",
        "이렇게 니 품에서 장난 치고파\n",
        "사랑하자 촛불 하나 켜놓고 단\n",
        "둘이 꽉 껴안고\n",
        "사랑하자 촛불 하나 켜놓고 단\n",
        "둘이 꽉 껴안고\"\"\")"
      ]
    },
    {
      "cell_type": "code",
      "execution_count": null,
      "metadata": {
        "colab": {
          "base_uri": "https://localhost:8080/",
          "height": 35
        },
        "id": "SWeKZveeG_rq",
        "outputId": "31454673-3e1d-4a46-f7f5-be2d1324e3ce"
      },
      "outputs": [
        {
          "data": {
            "application/vnd.google.colaboratory.intrinsic+json": {
              "type": "string"
            },
            "text/plain": [
              "'청춘 은 사랑 은'"
            ]
          },
          "execution_count": 167,
          "metadata": {},
          "output_type": "execute_result"
        }
      ],
      "source": [
        "return_title_predict(\"\"\"또 하루 멀어져 간다\n",
        "내뿜은 담배 연기처럼\n",
        "작기만 한 내 기억 속에\n",
        "무얼 채워 살고 있는지\n",
        "점점 더 멀어져 간다\n",
        "머물러 있는\n",
        "청춘인 줄 알았는데\n",
        "비어 가는 내 가슴속엔\n",
        "더 아무것도 찾을 수 없네\n",
        "계절은 다시 돌아오지 만\n",
        "떠나간 내 사랑은 어디에\n",
        "내가 떠나보낸 것도 아닌데\n",
        "내가 떠나온 것도 아닌데\n",
        "조금씩 잊혀져 간다\n",
        "머물러 있는\n",
        "사랑인 줄 알았는데\n",
        "또 하루 멀어져 간다\n",
        "매일 이별하며 살고 있구나\n",
        "매일 이별하며 살고 있구나\n",
        "점점 더 멀어져 간다\n",
        "머물러 있는\n",
        "청춘인 줄 알았는데\n",
        "비어 가는 내 가슴속엔\n",
        "더 아무것도 찾을 수 없네\n",
        "계절은 다시 돌아오지만\n",
        "떠나간 내 사랑은 어디에\n",
        "내가 떠나보낸 것도 아닌데\n",
        "내가 떠나온 것도 아닌데\n",
        "조금씩 잊혀져 간다\n",
        "머물러 있는\n",
        "사랑인 줄 알았는데\n",
        "또 하루 멀어져 간다\n",
        "매일 이별하며 살고 있구나\n",
        "매일 이별하며 살고 있구나\"\"\")"
      ]
    },
    {
      "cell_type": "code",
      "execution_count": null,
      "metadata": {
        "colab": {
          "base_uri": "https://localhost:8080/",
          "height": 35
        },
        "id": "sPcYLjKSLmC-",
        "outputId": "167f8af4-cc84-4177-997e-bef0b5c78fdb"
      },
      "outputs": [
        {
          "data": {
            "application/vnd.google.colaboratory.intrinsic+json": {
              "type": "string"
            },
            "text/plain": [
              "'나 의 평생'"
            ]
          },
          "execution_count": 39,
          "metadata": {},
          "output_type": "execute_result"
        }
      ],
      "source": [
        "return_title_predict(\"\"\"이 세상위엔 내가 있고\n",
        "나를 사랑해 주는 나의 사람들과\n",
        "나의 길을 가고 싶어\n",
        "\n",
        "많이 힘들고 외로웠지 그건 연습일 뿐야\n",
        "넘어지진 않을 거야 나는 문제없어\n",
        "\n",
        "짧은 하루에 몇 번씩 같은 자리를 맴돌다\n",
        "때론 어려운 시련에 나의 갈 곳을 잃어 가고\n",
        "내가 꿈꾸던 사랑도 언제나 같은 자리야\n",
        "시계추처럼 흔들린 나의 어릴 적 소망들도\n",
        "\n",
        "그렇게 돌아보지 마\n",
        "여기서 끝낼 수는 없잖아\n",
        "나에겐 가고 싶은 길이 있어\n",
        "\n",
        "너무 힘들고 외로워도 그건 연습일 뿐야\n",
        "넘어지진 않을 거야 나는 문제없어\n",
        "\n",
        "짧은 하루에 몇 번씩 같은 자리를 맴돌다\n",
        "때론 어려운 시련에 나의 갈 곳을 잃어 가고\n",
        "내가 꿈꾸던 사랑도 언제나 같은 자리야\n",
        "시계추처럼 흔들린 나의 어릴 적 소망들도\n",
        "\n",
        "그렇게 돌아보지 마\n",
        "여기서 끝낼 수는 없잖아\n",
        "나에겐 가고 싶은 길이 있어\n",
        "\n",
        "너무 힘들고 외로워도 그건 연습일 뿐야\n",
        "넘어지진 않을 거야 나는 문제없어\n",
        "\n",
        "이 세상 위에 내가 있고\n",
        "나를 사랑해주는 나의 사람들과\n",
        "나의 길을 가고 싶어\n",
        "\n",
        "많이 힘들고 외로웠지 그건 연습일 뿐야\n",
        "넘어지진 않을 거야 나는 문제없어\"\"\")"
      ]
    },
    {
      "cell_type": "code",
      "execution_count": null,
      "metadata": {
        "colab": {
          "base_uri": "https://localhost:8080/",
          "height": 126
        },
        "id": "oDwoqhDMOLBX",
        "outputId": "c9829c12-4d36-4634-a586-1af2fe8c30f2"
      },
      "outputs": [
        {
          "data": {
            "application/vnd.google.colaboratory.intrinsic+json": {
              "type": "string"
            },
            "text/plain": [
              "'나 주 오이 오이 내사 호이 내사 호이 나 를 좋아해 료구구구구구구구구구구구구구구구구구구구구구구구구구구구구구구구구구구구구 구구구구구구구구구구구구구구구구구구구구구구구구구구구구구구구구구구구구구구구구구구구구구구구구구구구구구구 구구구구구구구구구구 구 구구구구 구구구구구구구구구구구구구구구구구구구구구구구 구 구 구 구구구구구구구구구구구구구구구구구구 구구 구구구구구구구구구구구구구구구구구구구구구구구구구구구 구 구구구구 구구구구구구 구구구 구구구구구구구 구구 구 구구구 구구 구 구구구구구구구구구구구구구구구구구구구구구구 구구구구구구구구구구구구구 구 구 구구구구구구 구 구 구구구 구 구구 구구구구구구구구구구구구구 구 구 구 구구구구 구구구구구구구구구구구구구 구구구구구구 구구구구구구구구 구구구구구구구 구구구구 구 구 구구 구 구구구구 구구구구구구 구구구구구구구구구 구구구구구구 구구구구구구 구구구구구구 구구구 구구구구구구구 구구구구구구구 구구구구구구구  구구구 구구구구구구 구구구구구구구구 구구 구구구구 구 구구 구구구구구구구구구 구구구 구 구구구구 구구구구구구구구구구구구 구구구 구 구 구구구 구 구구 구 구구구구구구구구 구 구구 구구 구구구 구구 구구구구구 구구구 구구구 구 구구구구구구구구 구구구구구구'"
            ]
          },
          "execution_count": 43,
          "metadata": {},
          "output_type": "execute_result"
        }
      ],
      "source": [
        "return_title_predict(\"\"\"로꾸거 로꾸거 로꾸거 말해말\n",
        "로꾸거 로꾸거 로꾸거 말해말\n",
        "아많다많다많다많아\n",
        "다이뿐이뿐이뿐이다\n",
        "여보게저기저게보여\n",
        "여보안경안보여\n",
        "통술집술통 소주만병만주소\n",
        "다이심전심이다 뽀뽀뽀\n",
        "아좋다좋아 수박이박수\n",
        "다시합창합시다\n",
        "로꾸거 로꾸거 로꾸거 말해말\n",
        "로꾸거 로꾸거 로꾸거 말해말\n",
        "니가는데는가니 일요일 스위스\n",
        "수리수리수 물렁물렁물\n",
        "아좋다좋아 수박이박수\n",
        "다시합창합시다\n",
        "어제도 거꾸로 오늘도 거꾸로\n",
        "모든 건 거꾸로 돌아가고 있어\n",
        "내일이 와야해\n",
        "행복의 시계가\n",
        "째깍째깍 돌아가겠지\n",
        "째깍째깍째깍\n",
        "원투쓰리포파이브식스 GO\n",
        "로꾸거 로꾸거 로꾸거 말해말\n",
        "로꾸거 로꾸거 로꾸거 말해말\n",
        "하파타카차자아 사바마라다나가\n",
        "10 9 8 7 6 5 4 3 2 1 땡\n",
        "아래서 위로 뒤에서 앞으로\n",
        "모든 건 거꾸로 로꾸거\n",
        "할아버지 할머니 아저씨 아줌마\n",
        "남녀노소 짠짠짠\n",
        "얼씨구절씨구 빠라바라바빰\n",
        "모든 건 거꾸로 로꾸거\n",
        "나갔다오나 나오다갔나\n",
        "아들딸이다컸다 이딸들아\n",
        "다같은별은 별은같다\n",
        "자꾸만 꿈만꾸자\n",
        "장가간가장 시집간집시\n",
        "다된장국 청국장된다\n",
        "아좋다좋아 수박이박수\n",
        "다시 합창합시다\n",
        "어제도 거꾸로 오늘도 거꾸로\n",
        "모든 건 거꾸로 돌아가고 있어\n",
        "내일이 와야해\n",
        "행복의 시계가\n",
        "째깍째깍 돌아가겠지\n",
        "째깍째깍째깍\n",
        "원투쓰리포파이브식스 GO\n",
        "로꾸거 로꾸거 로꾸거 말해말\n",
        "로꾸거 로꾸거 로꾸거 말해말\n",
        "아좋다좋아 수박이박수\n",
        "다시합창합시다\n",
        "로꾸거 로꾸거 로꾸거 로꾸거\n",
        "로꾸거 로꾸거 로꾸거 말해말\"\"\")"
      ]
    },
    {
      "cell_type": "code",
      "execution_count": null,
      "metadata": {
        "colab": {
          "base_uri": "https://localhost:8080/",
          "height": 35
        },
        "id": "sDhIKMioQNON",
        "outputId": "95c19a30-4b93-483a-dc69-9838e576ed8d"
      },
      "outputs": [
        {
          "data": {
            "application/vnd.google.colaboratory.intrinsic+json": {
              "type": "string"
            },
            "text/plain": [
              "'나 를 잃 고'"
            ]
          },
          "execution_count": 82,
          "metadata": {},
          "output_type": "execute_result"
        }
      ],
      "source": [
        "return_title_predict(\"\"\"비린내나는 부둣가를\n",
        "내 세상처럼 누벼가며\n",
        "두 주먹으로 또 하루를\n",
        "겁없이 살아간다\n",
        "희망도 없고 꿈도 없이\n",
        "사랑에 속고 돈에 울고\n",
        "기막힌 세상 돌아보면\n",
        "서러움에 눈물이 나\n",
        "비겁하다 욕하지마\n",
        "더러운 뒷골목을 헤매고 다녀도\n",
        "내 상처를 끌어안은 그대가\n",
        "곁에 있어 행복했다\n",
        "촛불처럼 짧은 사랑\n",
        "내 한 몸 아낌없이\n",
        "바치려 했건만\n",
        "저 하늘이 외면하는 그 순간\n",
        "내생에 봄날은 간다\n",
        "이 세상 어딜 둘러봐도\n",
        "언제나 나는 혼자였고\n",
        "시린 고독과 악수하며\n",
        "외길을 걸어왔다\n",
        "멋진 남자로 살고싶어\n",
        "안간힘으로 버텼는데\n",
        "막다른 길에 가로막혀\n",
        "비참하게 부서졌다\n",
        "비겁하다 욕하지마\n",
        "더러운 뒷골목을 헤매고 다녀도\n",
        "내 상처를 끌어안은 그대가\n",
        "곁에 있어 행복했다\n",
        "촛불처럼 짧은 사랑\n",
        "내 한 몸 아낌없이\n",
        "바치려 했건만\n",
        "저 하늘이 외면하는 그 순간\n",
        "내생에 봄날은 간다\n",
        "비겁하다 욕하지마\n",
        "더러운 뒷골목을 헤매고 다녀도\n",
        "내 상처를 끌어안은 그대가\n",
        "곁에 있어 행복했다\n",
        "촛불처럼 짧은 사랑\n",
        "내 한 몸 아낌없이\n",
        "바치려 했건만\n",
        "저 하늘이 외면하는 그 순간\n",
        "내생에 봄날은 간다\n",
        "무엇하나 내 뜻대로\n",
        "잡지도 가질 수도\n",
        "없었던 이 세상\n",
        "내한목숨 사랑으로 남긴채\n",
        "이제는 떠나고 싶다\n",
        "바람처럼 또 그렇게\"\"\")"
      ]
    }
  ],
  "metadata": {
    "accelerator": "GPU",
    "colab": {
      "machine_shape": "hm",
      "provenance": []
    },
    "kernelspec": {
      "display_name": "Python 3",
      "name": "python3"
    },
    "language_info": {
      "name": "python"
    },
    "widgets": {
      "application/vnd.jupyter.widget-state+json": {
        "07d305a1eb924509a92bb78047329561": {
          "model_module": "@jupyter-widgets/controls",
          "model_module_version": "1.5.0",
          "model_name": "FloatProgressModel",
          "state": {
            "_dom_classes": [],
            "_model_module": "@jupyter-widgets/controls",
            "_model_module_version": "1.5.0",
            "_model_name": "FloatProgressModel",
            "_view_count": null,
            "_view_module": "@jupyter-widgets/controls",
            "_view_module_version": "1.5.0",
            "_view_name": "ProgressView",
            "bar_style": "success",
            "description": "",
            "description_tooltip": null,
            "layout": "IPY_MODEL_db07811157fa4a25a489aa775d9a302a",
            "max": 513302779,
            "min": 0,
            "orientation": "horizontal",
            "style": "IPY_MODEL_73c05067bf6d4b2f8b3a27a70a4ef2dc",
            "value": 513302779
          }
        },
        "0925f05d9a014ad1935a7ed253484c7f": {
          "model_module": "@jupyter-widgets/base",
          "model_module_version": "1.2.0",
          "model_name": "LayoutModel",
          "state": {
            "_model_module": "@jupyter-widgets/base",
            "_model_module_version": "1.2.0",
            "_model_name": "LayoutModel",
            "_view_count": null,
            "_view_module": "@jupyter-widgets/base",
            "_view_module_version": "1.2.0",
            "_view_name": "LayoutView",
            "align_content": null,
            "align_items": null,
            "align_self": null,
            "border": null,
            "bottom": null,
            "display": null,
            "flex": null,
            "flex_flow": null,
            "grid_area": null,
            "grid_auto_columns": null,
            "grid_auto_flow": null,
            "grid_auto_rows": null,
            "grid_column": null,
            "grid_gap": null,
            "grid_row": null,
            "grid_template_areas": null,
            "grid_template_columns": null,
            "grid_template_rows": null,
            "height": null,
            "justify_content": null,
            "justify_items": null,
            "left": null,
            "margin": null,
            "max_height": null,
            "max_width": null,
            "min_height": null,
            "min_width": null,
            "object_fit": null,
            "object_position": null,
            "order": null,
            "overflow": null,
            "overflow_x": null,
            "overflow_y": null,
            "padding": null,
            "right": null,
            "top": null,
            "visibility": null,
            "width": null
          }
        },
        "0972d73307ad4a3987237f9cd461f6f6": {
          "model_module": "@jupyter-widgets/controls",
          "model_module_version": "1.5.0",
          "model_name": "HBoxModel",
          "state": {
            "_dom_classes": [],
            "_model_module": "@jupyter-widgets/controls",
            "_model_module_version": "1.5.0",
            "_model_name": "HBoxModel",
            "_view_count": null,
            "_view_module": "@jupyter-widgets/controls",
            "_view_module_version": "1.5.0",
            "_view_name": "HBoxView",
            "box_style": "",
            "children": [
              "IPY_MODEL_67e7c79b7b7c4345b7f6422ef700e71e",
              "IPY_MODEL_71ec0c8e483d4c3ebc8d6721cdb6f452",
              "IPY_MODEL_a90004e7360c4427a0fe67c60da89731"
            ],
            "layout": "IPY_MODEL_45bff83deede4840878c0a355379c760"
          }
        },
        "0c11a419a609480e8e74d4d060c57699": {
          "model_module": "@jupyter-widgets/controls",
          "model_module_version": "1.5.0",
          "model_name": "HTMLModel",
          "state": {
            "_dom_classes": [],
            "_model_module": "@jupyter-widgets/controls",
            "_model_module_version": "1.5.0",
            "_model_name": "HTMLModel",
            "_view_count": null,
            "_view_module": "@jupyter-widgets/controls",
            "_view_module_version": "1.5.0",
            "_view_name": "HTMLView",
            "description": "",
            "description_tooltip": null,
            "layout": "IPY_MODEL_2799197e883043b9b09ffd72ef2b08a1",
            "placeholder": "​",
            "style": "IPY_MODEL_3fd4d71744c949e493c1f8045f84e411",
            "value": ""
          }
        },
        "0ce2fa290d8940219588534c12d8fa00": {
          "model_module": "@jupyter-widgets/controls",
          "model_module_version": "1.5.0",
          "model_name": "DescriptionStyleModel",
          "state": {
            "_model_module": "@jupyter-widgets/controls",
            "_model_module_version": "1.5.0",
            "_model_name": "DescriptionStyleModel",
            "_view_count": null,
            "_view_module": "@jupyter-widgets/base",
            "_view_module_version": "1.2.0",
            "_view_name": "StyleView",
            "description_width": ""
          }
        },
        "113b048b8023450ea37ab9d016ea0d2f": {
          "model_module": "@jupyter-widgets/base",
          "model_module_version": "1.2.0",
          "model_name": "LayoutModel",
          "state": {
            "_model_module": "@jupyter-widgets/base",
            "_model_module_version": "1.2.0",
            "_model_name": "LayoutModel",
            "_view_count": null,
            "_view_module": "@jupyter-widgets/base",
            "_view_module_version": "1.2.0",
            "_view_name": "LayoutView",
            "align_content": null,
            "align_items": null,
            "align_self": null,
            "border": null,
            "bottom": null,
            "display": null,
            "flex": null,
            "flex_flow": null,
            "grid_area": null,
            "grid_auto_columns": null,
            "grid_auto_flow": null,
            "grid_auto_rows": null,
            "grid_column": null,
            "grid_gap": null,
            "grid_row": null,
            "grid_template_areas": null,
            "grid_template_columns": null,
            "grid_template_rows": null,
            "height": null,
            "justify_content": null,
            "justify_items": null,
            "left": null,
            "margin": null,
            "max_height": null,
            "max_width": null,
            "min_height": null,
            "min_width": null,
            "object_fit": null,
            "object_position": null,
            "order": null,
            "overflow": null,
            "overflow_x": null,
            "overflow_y": null,
            "padding": null,
            "right": null,
            "top": null,
            "visibility": null,
            "width": null
          }
        },
        "183766002a6d451c9b64925875f9b7da": {
          "model_module": "@jupyter-widgets/base",
          "model_module_version": "1.2.0",
          "model_name": "LayoutModel",
          "state": {
            "_model_module": "@jupyter-widgets/base",
            "_model_module_version": "1.2.0",
            "_model_name": "LayoutModel",
            "_view_count": null,
            "_view_module": "@jupyter-widgets/base",
            "_view_module_version": "1.2.0",
            "_view_name": "LayoutView",
            "align_content": null,
            "align_items": null,
            "align_self": null,
            "border": null,
            "bottom": null,
            "display": null,
            "flex": null,
            "flex_flow": null,
            "grid_area": null,
            "grid_auto_columns": null,
            "grid_auto_flow": null,
            "grid_auto_rows": null,
            "grid_column": null,
            "grid_gap": null,
            "grid_row": null,
            "grid_template_areas": null,
            "grid_template_columns": null,
            "grid_template_rows": null,
            "height": null,
            "justify_content": null,
            "justify_items": null,
            "left": null,
            "margin": null,
            "max_height": null,
            "max_width": null,
            "min_height": null,
            "min_width": null,
            "object_fit": null,
            "object_position": null,
            "order": null,
            "overflow": null,
            "overflow_x": null,
            "overflow_y": null,
            "padding": null,
            "right": null,
            "top": null,
            "visibility": null,
            "width": null
          }
        },
        "1ddd0bbebb544c26a83d0a1e1267af44": {
          "model_module": "@jupyter-widgets/controls",
          "model_module_version": "1.5.0",
          "model_name": "ProgressStyleModel",
          "state": {
            "_model_module": "@jupyter-widgets/controls",
            "_model_module_version": "1.5.0",
            "_model_name": "ProgressStyleModel",
            "_view_count": null,
            "_view_module": "@jupyter-widgets/base",
            "_view_module_version": "1.2.0",
            "_view_name": "StyleView",
            "bar_color": null,
            "description_width": ""
          }
        },
        "2110beedab4d41e784d5a5e4927510b4": {
          "model_module": "@jupyter-widgets/base",
          "model_module_version": "1.2.0",
          "model_name": "LayoutModel",
          "state": {
            "_model_module": "@jupyter-widgets/base",
            "_model_module_version": "1.2.0",
            "_model_name": "LayoutModel",
            "_view_count": null,
            "_view_module": "@jupyter-widgets/base",
            "_view_module_version": "1.2.0",
            "_view_name": "LayoutView",
            "align_content": null,
            "align_items": null,
            "align_self": null,
            "border": null,
            "bottom": null,
            "display": null,
            "flex": null,
            "flex_flow": null,
            "grid_area": null,
            "grid_auto_columns": null,
            "grid_auto_flow": null,
            "grid_auto_rows": null,
            "grid_column": null,
            "grid_gap": null,
            "grid_row": null,
            "grid_template_areas": null,
            "grid_template_columns": null,
            "grid_template_rows": null,
            "height": null,
            "justify_content": null,
            "justify_items": null,
            "left": null,
            "margin": null,
            "max_height": null,
            "max_width": null,
            "min_height": null,
            "min_width": null,
            "object_fit": null,
            "object_position": null,
            "order": null,
            "overflow": null,
            "overflow_x": null,
            "overflow_y": null,
            "padding": null,
            "right": null,
            "top": null,
            "visibility": null,
            "width": null
          }
        },
        "2799197e883043b9b09ffd72ef2b08a1": {
          "model_module": "@jupyter-widgets/base",
          "model_module_version": "1.2.0",
          "model_name": "LayoutModel",
          "state": {
            "_model_module": "@jupyter-widgets/base",
            "_model_module_version": "1.2.0",
            "_model_name": "LayoutModel",
            "_view_count": null,
            "_view_module": "@jupyter-widgets/base",
            "_view_module_version": "1.2.0",
            "_view_name": "LayoutView",
            "align_content": null,
            "align_items": null,
            "align_self": null,
            "border": null,
            "bottom": null,
            "display": null,
            "flex": null,
            "flex_flow": null,
            "grid_area": null,
            "grid_auto_columns": null,
            "grid_auto_flow": null,
            "grid_auto_rows": null,
            "grid_column": null,
            "grid_gap": null,
            "grid_row": null,
            "grid_template_areas": null,
            "grid_template_columns": null,
            "grid_template_rows": null,
            "height": null,
            "justify_content": null,
            "justify_items": null,
            "left": null,
            "margin": null,
            "max_height": null,
            "max_width": null,
            "min_height": null,
            "min_width": null,
            "object_fit": null,
            "object_position": null,
            "order": null,
            "overflow": null,
            "overflow_x": null,
            "overflow_y": null,
            "padding": null,
            "right": null,
            "top": null,
            "visibility": null,
            "width": null
          }
        },
        "3345dff1624541fbb6da6ad147601099": {
          "model_module": "@jupyter-widgets/base",
          "model_module_version": "1.2.0",
          "model_name": "LayoutModel",
          "state": {
            "_model_module": "@jupyter-widgets/base",
            "_model_module_version": "1.2.0",
            "_model_name": "LayoutModel",
            "_view_count": null,
            "_view_module": "@jupyter-widgets/base",
            "_view_module_version": "1.2.0",
            "_view_name": "LayoutView",
            "align_content": null,
            "align_items": null,
            "align_self": null,
            "border": null,
            "bottom": null,
            "display": null,
            "flex": null,
            "flex_flow": null,
            "grid_area": null,
            "grid_auto_columns": null,
            "grid_auto_flow": null,
            "grid_auto_rows": null,
            "grid_column": null,
            "grid_gap": null,
            "grid_row": null,
            "grid_template_areas": null,
            "grid_template_columns": null,
            "grid_template_rows": null,
            "height": null,
            "justify_content": null,
            "justify_items": null,
            "left": null,
            "margin": null,
            "max_height": null,
            "max_width": null,
            "min_height": null,
            "min_width": null,
            "object_fit": null,
            "object_position": null,
            "order": null,
            "overflow": null,
            "overflow_x": null,
            "overflow_y": null,
            "padding": null,
            "right": null,
            "top": null,
            "visibility": null,
            "width": null
          }
        },
        "34371cbce7f346bdad616d7146531f62": {
          "model_module": "@jupyter-widgets/base",
          "model_module_version": "1.2.0",
          "model_name": "LayoutModel",
          "state": {
            "_model_module": "@jupyter-widgets/base",
            "_model_module_version": "1.2.0",
            "_model_name": "LayoutModel",
            "_view_count": null,
            "_view_module": "@jupyter-widgets/base",
            "_view_module_version": "1.2.0",
            "_view_name": "LayoutView",
            "align_content": null,
            "align_items": null,
            "align_self": null,
            "border": null,
            "bottom": null,
            "display": null,
            "flex": null,
            "flex_flow": null,
            "grid_area": null,
            "grid_auto_columns": null,
            "grid_auto_flow": null,
            "grid_auto_rows": null,
            "grid_column": null,
            "grid_gap": null,
            "grid_row": null,
            "grid_template_areas": null,
            "grid_template_columns": null,
            "grid_template_rows": null,
            "height": null,
            "justify_content": null,
            "justify_items": null,
            "left": null,
            "margin": null,
            "max_height": null,
            "max_width": null,
            "min_height": null,
            "min_width": null,
            "object_fit": null,
            "object_position": null,
            "order": null,
            "overflow": null,
            "overflow_x": null,
            "overflow_y": null,
            "padding": null,
            "right": null,
            "top": null,
            "visibility": null,
            "width": null
          }
        },
        "3a3d015787ef49d98bb9ef202798ad9a": {
          "model_module": "@jupyter-widgets/controls",
          "model_module_version": "1.5.0",
          "model_name": "DescriptionStyleModel",
          "state": {
            "_model_module": "@jupyter-widgets/controls",
            "_model_module_version": "1.5.0",
            "_model_name": "DescriptionStyleModel",
            "_view_count": null,
            "_view_module": "@jupyter-widgets/base",
            "_view_module_version": "1.2.0",
            "_view_name": "StyleView",
            "description_width": ""
          }
        },
        "3e8c18cb78b8445289050cf391a75ba5": {
          "model_module": "@jupyter-widgets/base",
          "model_module_version": "1.2.0",
          "model_name": "LayoutModel",
          "state": {
            "_model_module": "@jupyter-widgets/base",
            "_model_module_version": "1.2.0",
            "_model_name": "LayoutModel",
            "_view_count": null,
            "_view_module": "@jupyter-widgets/base",
            "_view_module_version": "1.2.0",
            "_view_name": "LayoutView",
            "align_content": null,
            "align_items": null,
            "align_self": null,
            "border": null,
            "bottom": null,
            "display": null,
            "flex": null,
            "flex_flow": null,
            "grid_area": null,
            "grid_auto_columns": null,
            "grid_auto_flow": null,
            "grid_auto_rows": null,
            "grid_column": null,
            "grid_gap": null,
            "grid_row": null,
            "grid_template_areas": null,
            "grid_template_columns": null,
            "grid_template_rows": null,
            "height": null,
            "justify_content": null,
            "justify_items": null,
            "left": null,
            "margin": null,
            "max_height": null,
            "max_width": null,
            "min_height": null,
            "min_width": null,
            "object_fit": null,
            "object_position": null,
            "order": null,
            "overflow": null,
            "overflow_x": null,
            "overflow_y": null,
            "padding": null,
            "right": null,
            "top": null,
            "visibility": null,
            "width": null
          }
        },
        "3fd4d71744c949e493c1f8045f84e411": {
          "model_module": "@jupyter-widgets/controls",
          "model_module_version": "1.5.0",
          "model_name": "DescriptionStyleModel",
          "state": {
            "_model_module": "@jupyter-widgets/controls",
            "_model_module_version": "1.5.0",
            "_model_name": "DescriptionStyleModel",
            "_view_count": null,
            "_view_module": "@jupyter-widgets/base",
            "_view_module_version": "1.2.0",
            "_view_name": "StyleView",
            "description_width": ""
          }
        },
        "455ff80914b84f7587583e957a8b9ce9": {
          "model_module": "@jupyter-widgets/base",
          "model_module_version": "1.2.0",
          "model_name": "LayoutModel",
          "state": {
            "_model_module": "@jupyter-widgets/base",
            "_model_module_version": "1.2.0",
            "_model_name": "LayoutModel",
            "_view_count": null,
            "_view_module": "@jupyter-widgets/base",
            "_view_module_version": "1.2.0",
            "_view_name": "LayoutView",
            "align_content": null,
            "align_items": null,
            "align_self": null,
            "border": null,
            "bottom": null,
            "display": null,
            "flex": null,
            "flex_flow": null,
            "grid_area": null,
            "grid_auto_columns": null,
            "grid_auto_flow": null,
            "grid_auto_rows": null,
            "grid_column": null,
            "grid_gap": null,
            "grid_row": null,
            "grid_template_areas": null,
            "grid_template_columns": null,
            "grid_template_rows": null,
            "height": null,
            "justify_content": null,
            "justify_items": null,
            "left": null,
            "margin": null,
            "max_height": null,
            "max_width": null,
            "min_height": null,
            "min_width": null,
            "object_fit": null,
            "object_position": null,
            "order": null,
            "overflow": null,
            "overflow_x": null,
            "overflow_y": null,
            "padding": null,
            "right": null,
            "top": null,
            "visibility": null,
            "width": null
          }
        },
        "45bff83deede4840878c0a355379c760": {
          "model_module": "@jupyter-widgets/base",
          "model_module_version": "1.2.0",
          "model_name": "LayoutModel",
          "state": {
            "_model_module": "@jupyter-widgets/base",
            "_model_module_version": "1.2.0",
            "_model_name": "LayoutModel",
            "_view_count": null,
            "_view_module": "@jupyter-widgets/base",
            "_view_module_version": "1.2.0",
            "_view_name": "LayoutView",
            "align_content": null,
            "align_items": null,
            "align_self": null,
            "border": null,
            "bottom": null,
            "display": null,
            "flex": null,
            "flex_flow": null,
            "grid_area": null,
            "grid_auto_columns": null,
            "grid_auto_flow": null,
            "grid_auto_rows": null,
            "grid_column": null,
            "grid_gap": null,
            "grid_row": null,
            "grid_template_areas": null,
            "grid_template_columns": null,
            "grid_template_rows": null,
            "height": null,
            "justify_content": null,
            "justify_items": null,
            "left": null,
            "margin": null,
            "max_height": null,
            "max_width": null,
            "min_height": null,
            "min_width": null,
            "object_fit": null,
            "object_position": null,
            "order": null,
            "overflow": null,
            "overflow_x": null,
            "overflow_y": null,
            "padding": null,
            "right": null,
            "top": null,
            "visibility": null,
            "width": null
          }
        },
        "493c980638534fffa0a4a9112c855e37": {
          "model_module": "@jupyter-widgets/controls",
          "model_module_version": "1.5.0",
          "model_name": "ProgressStyleModel",
          "state": {
            "_model_module": "@jupyter-widgets/controls",
            "_model_module_version": "1.5.0",
            "_model_name": "ProgressStyleModel",
            "_view_count": null,
            "_view_module": "@jupyter-widgets/base",
            "_view_module_version": "1.2.0",
            "_view_name": "StyleView",
            "bar_color": null,
            "description_width": ""
          }
        },
        "49436e28fecc4492a332194ed0ce2f6b": {
          "model_module": "@jupyter-widgets/controls",
          "model_module_version": "1.5.0",
          "model_name": "HBoxModel",
          "state": {
            "_dom_classes": [],
            "_model_module": "@jupyter-widgets/controls",
            "_model_module_version": "1.5.0",
            "_model_name": "HBoxModel",
            "_view_count": null,
            "_view_module": "@jupyter-widgets/controls",
            "_view_module_version": "1.5.0",
            "_view_name": "HBoxView",
            "box_style": "",
            "children": [
              "IPY_MODEL_9cbcfee599f040ce903e3245fcc6b400",
              "IPY_MODEL_afb1053bee0a46b8acc3161767c2cd7c",
              "IPY_MODEL_ade4eabeee97417a925940b8e82a3161"
            ],
            "layout": "IPY_MODEL_909179fc7129440ea89edb16be7f0ec1"
          }
        },
        "557f4b5e758044a89d246bb36382736c": {
          "model_module": "@jupyter-widgets/controls",
          "model_module_version": "1.5.0",
          "model_name": "HTMLModel",
          "state": {
            "_dom_classes": [],
            "_model_module": "@jupyter-widgets/controls",
            "_model_module_version": "1.5.0",
            "_model_name": "HTMLModel",
            "_view_count": null,
            "_view_module": "@jupyter-widgets/controls",
            "_view_module_version": "1.5.0",
            "_view_name": "HTMLView",
            "description": "",
            "description_tooltip": null,
            "layout": "IPY_MODEL_3345dff1624541fbb6da6ad147601099",
            "placeholder": "​",
            "style": "IPY_MODEL_d8f5fa5bcf4b469d8963dd2c38788f5e",
            "value": "Downloading: 100%"
          }
        },
        "5e4575237a0f456eaa23395290a7bf02": {
          "model_module": "@jupyter-widgets/controls",
          "model_module_version": "1.5.0",
          "model_name": "HBoxModel",
          "state": {
            "_dom_classes": [],
            "_model_module": "@jupyter-widgets/controls",
            "_model_module_version": "1.5.0",
            "_model_name": "HBoxModel",
            "_view_count": null,
            "_view_module": "@jupyter-widgets/controls",
            "_view_module_version": "1.5.0",
            "_view_name": "HBoxView",
            "box_style": "",
            "children": [
              "IPY_MODEL_557f4b5e758044a89d246bb36382736c",
              "IPY_MODEL_07d305a1eb924509a92bb78047329561",
              "IPY_MODEL_d8eb61b320c44d48ab98666c1fafe926"
            ],
            "layout": "IPY_MODEL_0925f05d9a014ad1935a7ed253484c7f"
          }
        },
        "616f2dcbe920431d8bed523670c210db": {
          "model_module": "@jupyter-widgets/controls",
          "model_module_version": "1.5.0",
          "model_name": "DescriptionStyleModel",
          "state": {
            "_model_module": "@jupyter-widgets/controls",
            "_model_module_version": "1.5.0",
            "_model_name": "DescriptionStyleModel",
            "_view_count": null,
            "_view_module": "@jupyter-widgets/base",
            "_view_module_version": "1.2.0",
            "_view_name": "StyleView",
            "description_width": ""
          }
        },
        "67e7c79b7b7c4345b7f6422ef700e71e": {
          "model_module": "@jupyter-widgets/controls",
          "model_module_version": "1.5.0",
          "model_name": "HTMLModel",
          "state": {
            "_dom_classes": [],
            "_model_module": "@jupyter-widgets/controls",
            "_model_module_version": "1.5.0",
            "_model_name": "HTMLModel",
            "_view_count": null,
            "_view_module": "@jupyter-widgets/controls",
            "_view_module_version": "1.5.0",
            "_view_name": "HTMLView",
            "description": "",
            "description_tooltip": null,
            "layout": "IPY_MODEL_183766002a6d451c9b64925875f9b7da",
            "placeholder": "​",
            "style": "IPY_MODEL_3a3d015787ef49d98bb9ef202798ad9a",
            "value": "Downloading: 100%"
          }
        },
        "6d0b8d1f77854d679b8975f6778b7f07": {
          "model_module": "@jupyter-widgets/base",
          "model_module_version": "1.2.0",
          "model_name": "LayoutModel",
          "state": {
            "_model_module": "@jupyter-widgets/base",
            "_model_module_version": "1.2.0",
            "_model_name": "LayoutModel",
            "_view_count": null,
            "_view_module": "@jupyter-widgets/base",
            "_view_module_version": "1.2.0",
            "_view_name": "LayoutView",
            "align_content": null,
            "align_items": null,
            "align_self": null,
            "border": null,
            "bottom": null,
            "display": null,
            "flex": null,
            "flex_flow": null,
            "grid_area": null,
            "grid_auto_columns": null,
            "grid_auto_flow": null,
            "grid_auto_rows": null,
            "grid_column": null,
            "grid_gap": null,
            "grid_row": null,
            "grid_template_areas": null,
            "grid_template_columns": null,
            "grid_template_rows": null,
            "height": null,
            "justify_content": null,
            "justify_items": null,
            "left": null,
            "margin": null,
            "max_height": null,
            "max_width": null,
            "min_height": null,
            "min_width": null,
            "object_fit": null,
            "object_position": null,
            "order": null,
            "overflow": null,
            "overflow_x": null,
            "overflow_y": null,
            "padding": null,
            "right": null,
            "top": null,
            "visibility": null,
            "width": null
          }
        },
        "6fa97c61a42f434fa30995b85d39e7d8": {
          "model_module": "@jupyter-widgets/controls",
          "model_module_version": "1.5.0",
          "model_name": "HTMLModel",
          "state": {
            "_dom_classes": [],
            "_model_module": "@jupyter-widgets/controls",
            "_model_module_version": "1.5.0",
            "_model_name": "HTMLModel",
            "_view_count": null,
            "_view_module": "@jupyter-widgets/controls",
            "_view_module_version": "1.5.0",
            "_view_name": "HTMLView",
            "description": "",
            "description_tooltip": null,
            "layout": "IPY_MODEL_c866f04bb05145dbaac93d23b0fd84be",
            "placeholder": "​",
            "style": "IPY_MODEL_f6bb680548cc47b0bbd936b28e87bec6",
            "value": " 0/0 [00:00&lt;?, ?it/s]"
          }
        },
        "71ec0c8e483d4c3ebc8d6721cdb6f452": {
          "model_module": "@jupyter-widgets/controls",
          "model_module_version": "1.5.0",
          "model_name": "FloatProgressModel",
          "state": {
            "_dom_classes": [],
            "_model_module": "@jupyter-widgets/controls",
            "_model_module_version": "1.5.0",
            "_model_name": "FloatProgressModel",
            "_view_count": null,
            "_view_module": "@jupyter-widgets/controls",
            "_view_module_version": "1.5.0",
            "_view_name": "ProgressView",
            "bar_style": "success",
            "description": "",
            "description_tooltip": null,
            "layout": "IPY_MODEL_9c157463f4894d87a23706753fbcc02f",
            "max": 2825034,
            "min": 0,
            "orientation": "horizontal",
            "style": "IPY_MODEL_c236321642cd4450bbc1d72a32a0e7d4",
            "value": 2825034
          }
        },
        "73c05067bf6d4b2f8b3a27a70a4ef2dc": {
          "model_module": "@jupyter-widgets/controls",
          "model_module_version": "1.5.0",
          "model_name": "ProgressStyleModel",
          "state": {
            "_model_module": "@jupyter-widgets/controls",
            "_model_module_version": "1.5.0",
            "_model_name": "ProgressStyleModel",
            "_view_count": null,
            "_view_module": "@jupyter-widgets/base",
            "_view_module_version": "1.2.0",
            "_view_name": "StyleView",
            "bar_color": null,
            "description_width": ""
          }
        },
        "7e00f510bac4499aa67e35d6a07692f7": {
          "model_module": "@jupyter-widgets/controls",
          "model_module_version": "1.5.0",
          "model_name": "DescriptionStyleModel",
          "state": {
            "_model_module": "@jupyter-widgets/controls",
            "_model_module_version": "1.5.0",
            "_model_name": "DescriptionStyleModel",
            "_view_count": null,
            "_view_module": "@jupyter-widgets/base",
            "_view_module_version": "1.2.0",
            "_view_name": "StyleView",
            "description_width": ""
          }
        },
        "909179fc7129440ea89edb16be7f0ec1": {
          "model_module": "@jupyter-widgets/base",
          "model_module_version": "1.2.0",
          "model_name": "LayoutModel",
          "state": {
            "_model_module": "@jupyter-widgets/base",
            "_model_module_version": "1.2.0",
            "_model_name": "LayoutModel",
            "_view_count": null,
            "_view_module": "@jupyter-widgets/base",
            "_view_module_version": "1.2.0",
            "_view_name": "LayoutView",
            "align_content": null,
            "align_items": null,
            "align_self": null,
            "border": null,
            "bottom": null,
            "display": null,
            "flex": null,
            "flex_flow": null,
            "grid_area": null,
            "grid_auto_columns": null,
            "grid_auto_flow": null,
            "grid_auto_rows": null,
            "grid_column": null,
            "grid_gap": null,
            "grid_row": null,
            "grid_template_areas": null,
            "grid_template_columns": null,
            "grid_template_rows": null,
            "height": null,
            "justify_content": null,
            "justify_items": null,
            "left": null,
            "margin": null,
            "max_height": null,
            "max_width": null,
            "min_height": null,
            "min_width": null,
            "object_fit": null,
            "object_position": null,
            "order": null,
            "overflow": null,
            "overflow_x": null,
            "overflow_y": null,
            "padding": null,
            "right": null,
            "top": null,
            "visibility": null,
            "width": null
          }
        },
        "9c157463f4894d87a23706753fbcc02f": {
          "model_module": "@jupyter-widgets/base",
          "model_module_version": "1.2.0",
          "model_name": "LayoutModel",
          "state": {
            "_model_module": "@jupyter-widgets/base",
            "_model_module_version": "1.2.0",
            "_model_name": "LayoutModel",
            "_view_count": null,
            "_view_module": "@jupyter-widgets/base",
            "_view_module_version": "1.2.0",
            "_view_name": "LayoutView",
            "align_content": null,
            "align_items": null,
            "align_self": null,
            "border": null,
            "bottom": null,
            "display": null,
            "flex": null,
            "flex_flow": null,
            "grid_area": null,
            "grid_auto_columns": null,
            "grid_auto_flow": null,
            "grid_auto_rows": null,
            "grid_column": null,
            "grid_gap": null,
            "grid_row": null,
            "grid_template_areas": null,
            "grid_template_columns": null,
            "grid_template_rows": null,
            "height": null,
            "justify_content": null,
            "justify_items": null,
            "left": null,
            "margin": null,
            "max_height": null,
            "max_width": null,
            "min_height": null,
            "min_width": null,
            "object_fit": null,
            "object_position": null,
            "order": null,
            "overflow": null,
            "overflow_x": null,
            "overflow_y": null,
            "padding": null,
            "right": null,
            "top": null,
            "visibility": null,
            "width": null
          }
        },
        "9cbcfee599f040ce903e3245fcc6b400": {
          "model_module": "@jupyter-widgets/controls",
          "model_module_version": "1.5.0",
          "model_name": "HTMLModel",
          "state": {
            "_dom_classes": [],
            "_model_module": "@jupyter-widgets/controls",
            "_model_module_version": "1.5.0",
            "_model_name": "HTMLModel",
            "_view_count": null,
            "_view_module": "@jupyter-widgets/controls",
            "_view_module_version": "1.5.0",
            "_view_name": "HTMLView",
            "description": "",
            "description_tooltip": null,
            "layout": "IPY_MODEL_fc3fae0f2bb34fbdac65890d24d13ef0",
            "placeholder": "​",
            "style": "IPY_MODEL_7e00f510bac4499aa67e35d6a07692f7",
            "value": "Downloading: 100%"
          }
        },
        "a1fc3e8069694ca5bdfa092ef8d4c9de": {
          "model_module": "@jupyter-widgets/controls",
          "model_module_version": "1.5.0",
          "model_name": "DescriptionStyleModel",
          "state": {
            "_model_module": "@jupyter-widgets/controls",
            "_model_module_version": "1.5.0",
            "_model_name": "DescriptionStyleModel",
            "_view_count": null,
            "_view_module": "@jupyter-widgets/base",
            "_view_module_version": "1.2.0",
            "_view_name": "StyleView",
            "description_width": ""
          }
        },
        "a7e1060af12a4d83b3d25f816998185e": {
          "model_module": "@jupyter-widgets/base",
          "model_module_version": "1.2.0",
          "model_name": "LayoutModel",
          "state": {
            "_model_module": "@jupyter-widgets/base",
            "_model_module_version": "1.2.0",
            "_model_name": "LayoutModel",
            "_view_count": null,
            "_view_module": "@jupyter-widgets/base",
            "_view_module_version": "1.2.0",
            "_view_name": "LayoutView",
            "align_content": null,
            "align_items": null,
            "align_self": null,
            "border": null,
            "bottom": null,
            "display": null,
            "flex": null,
            "flex_flow": null,
            "grid_area": null,
            "grid_auto_columns": null,
            "grid_auto_flow": null,
            "grid_auto_rows": null,
            "grid_column": null,
            "grid_gap": null,
            "grid_row": null,
            "grid_template_areas": null,
            "grid_template_columns": null,
            "grid_template_rows": null,
            "height": null,
            "justify_content": null,
            "justify_items": null,
            "left": null,
            "margin": null,
            "max_height": null,
            "max_width": null,
            "min_height": null,
            "min_width": null,
            "object_fit": null,
            "object_position": null,
            "order": null,
            "overflow": null,
            "overflow_x": null,
            "overflow_y": null,
            "padding": null,
            "right": null,
            "top": null,
            "visibility": null,
            "width": "20px"
          }
        },
        "a90004e7360c4427a0fe67c60da89731": {
          "model_module": "@jupyter-widgets/controls",
          "model_module_version": "1.5.0",
          "model_name": "HTMLModel",
          "state": {
            "_dom_classes": [],
            "_model_module": "@jupyter-widgets/controls",
            "_model_module_version": "1.5.0",
            "_model_name": "HTMLModel",
            "_view_count": null,
            "_view_module": "@jupyter-widgets/controls",
            "_view_module_version": "1.5.0",
            "_view_name": "HTMLView",
            "description": "",
            "description_tooltip": null,
            "layout": "IPY_MODEL_34371cbce7f346bdad616d7146531f62",
            "placeholder": "​",
            "style": "IPY_MODEL_f9c4bfec98ca4a2081724a23049a82a3",
            "value": " 2.83M/2.83M [00:00&lt;00:00, 5.72MB/s]"
          }
        },
        "ade4eabeee97417a925940b8e82a3161": {
          "model_module": "@jupyter-widgets/controls",
          "model_module_version": "1.5.0",
          "model_name": "HTMLModel",
          "state": {
            "_dom_classes": [],
            "_model_module": "@jupyter-widgets/controls",
            "_model_module_version": "1.5.0",
            "_model_name": "HTMLModel",
            "_view_count": null,
            "_view_module": "@jupyter-widgets/controls",
            "_view_module_version": "1.5.0",
            "_view_name": "HTMLView",
            "description": "",
            "description_tooltip": null,
            "layout": "IPY_MODEL_455ff80914b84f7587583e957a8b9ce9",
            "placeholder": "​",
            "style": "IPY_MODEL_be9de298fb3047cb86ab0dcc8de418e8",
            "value": " 1.00k/1.00k [00:00&lt;00:00, 29.7kB/s]"
          }
        },
        "afb1053bee0a46b8acc3161767c2cd7c": {
          "model_module": "@jupyter-widgets/controls",
          "model_module_version": "1.5.0",
          "model_name": "FloatProgressModel",
          "state": {
            "_dom_classes": [],
            "_model_module": "@jupyter-widgets/controls",
            "_model_module_version": "1.5.0",
            "_model_name": "FloatProgressModel",
            "_view_count": null,
            "_view_module": "@jupyter-widgets/controls",
            "_view_module_version": "1.5.0",
            "_view_name": "ProgressView",
            "bar_style": "success",
            "description": "",
            "description_tooltip": null,
            "layout": "IPY_MODEL_f97816ad5f0a45ff9808a7128fd0b61d",
            "max": 1000,
            "min": 0,
            "orientation": "horizontal",
            "style": "IPY_MODEL_ed05694758114d929f982a48420a1fd1",
            "value": 1000
          }
        },
        "b2c8424e24ff482da2dd19a1106d2f77": {
          "model_module": "@jupyter-widgets/controls",
          "model_module_version": "1.5.0",
          "model_name": "HTMLModel",
          "state": {
            "_dom_classes": [],
            "_model_module": "@jupyter-widgets/controls",
            "_model_module_version": "1.5.0",
            "_model_name": "HTMLModel",
            "_view_count": null,
            "_view_module": "@jupyter-widgets/controls",
            "_view_module_version": "1.5.0",
            "_view_name": "HTMLView",
            "description": "",
            "description_tooltip": null,
            "layout": "IPY_MODEL_b55ce99bc87743ffacf3b5e9940c92e8",
            "placeholder": "​",
            "style": "IPY_MODEL_a1fc3e8069694ca5bdfa092ef8d4c9de",
            "value": " 12708/112330 [1:35:04&lt;12:58:52,  2.13it/s]"
          }
        },
        "b55ce99bc87743ffacf3b5e9940c92e8": {
          "model_module": "@jupyter-widgets/base",
          "model_module_version": "1.2.0",
          "model_name": "LayoutModel",
          "state": {
            "_model_module": "@jupyter-widgets/base",
            "_model_module_version": "1.2.0",
            "_model_name": "LayoutModel",
            "_view_count": null,
            "_view_module": "@jupyter-widgets/base",
            "_view_module_version": "1.2.0",
            "_view_name": "LayoutView",
            "align_content": null,
            "align_items": null,
            "align_self": null,
            "border": null,
            "bottom": null,
            "display": null,
            "flex": null,
            "flex_flow": null,
            "grid_area": null,
            "grid_auto_columns": null,
            "grid_auto_flow": null,
            "grid_auto_rows": null,
            "grid_column": null,
            "grid_gap": null,
            "grid_row": null,
            "grid_template_areas": null,
            "grid_template_columns": null,
            "grid_template_rows": null,
            "height": null,
            "justify_content": null,
            "justify_items": null,
            "left": null,
            "margin": null,
            "max_height": null,
            "max_width": null,
            "min_height": null,
            "min_width": null,
            "object_fit": null,
            "object_position": null,
            "order": null,
            "overflow": null,
            "overflow_x": null,
            "overflow_y": null,
            "padding": null,
            "right": null,
            "top": null,
            "visibility": null,
            "width": null
          }
        },
        "b698c3bd7a4a4e78b950edab8f3e5926": {
          "model_module": "@jupyter-widgets/controls",
          "model_module_version": "1.5.0",
          "model_name": "HTMLModel",
          "state": {
            "_dom_classes": [],
            "_model_module": "@jupyter-widgets/controls",
            "_model_module_version": "1.5.0",
            "_model_name": "HTMLModel",
            "_view_count": null,
            "_view_module": "@jupyter-widgets/controls",
            "_view_module_version": "1.5.0",
            "_view_name": "HTMLView",
            "description": "",
            "description_tooltip": null,
            "layout": "IPY_MODEL_113b048b8023450ea37ab9d016ea0d2f",
            "placeholder": "​",
            "style": "IPY_MODEL_616f2dcbe920431d8bed523670c210db",
            "value": " 11%"
          }
        },
        "be9de298fb3047cb86ab0dcc8de418e8": {
          "model_module": "@jupyter-widgets/controls",
          "model_module_version": "1.5.0",
          "model_name": "DescriptionStyleModel",
          "state": {
            "_model_module": "@jupyter-widgets/controls",
            "_model_module_version": "1.5.0",
            "_model_name": "DescriptionStyleModel",
            "_view_count": null,
            "_view_module": "@jupyter-widgets/base",
            "_view_module_version": "1.2.0",
            "_view_name": "StyleView",
            "description_width": ""
          }
        },
        "c236321642cd4450bbc1d72a32a0e7d4": {
          "model_module": "@jupyter-widgets/controls",
          "model_module_version": "1.5.0",
          "model_name": "ProgressStyleModel",
          "state": {
            "_model_module": "@jupyter-widgets/controls",
            "_model_module_version": "1.5.0",
            "_model_name": "ProgressStyleModel",
            "_view_count": null,
            "_view_module": "@jupyter-widgets/base",
            "_view_module_version": "1.2.0",
            "_view_name": "StyleView",
            "bar_color": null,
            "description_width": ""
          }
        },
        "c4981b15961a4670bfcb41b37ead8ee9": {
          "model_module": "@jupyter-widgets/controls",
          "model_module_version": "1.5.0",
          "model_name": "HBoxModel",
          "state": {
            "_dom_classes": [],
            "_model_module": "@jupyter-widgets/controls",
            "_model_module_version": "1.5.0",
            "_model_name": "HBoxModel",
            "_view_count": null,
            "_view_module": "@jupyter-widgets/controls",
            "_view_module_version": "1.5.0",
            "_view_name": "HBoxView",
            "box_style": "",
            "children": [
              "IPY_MODEL_b698c3bd7a4a4e78b950edab8f3e5926",
              "IPY_MODEL_fb5cf69961f04bd3b6e0bab11cef8493",
              "IPY_MODEL_b2c8424e24ff482da2dd19a1106d2f77"
            ],
            "layout": "IPY_MODEL_ee916104d61841df9cc4008a5acf81cf"
          }
        },
        "c866f04bb05145dbaac93d23b0fd84be": {
          "model_module": "@jupyter-widgets/base",
          "model_module_version": "1.2.0",
          "model_name": "LayoutModel",
          "state": {
            "_model_module": "@jupyter-widgets/base",
            "_model_module_version": "1.2.0",
            "_model_name": "LayoutModel",
            "_view_count": null,
            "_view_module": "@jupyter-widgets/base",
            "_view_module_version": "1.2.0",
            "_view_name": "LayoutView",
            "align_content": null,
            "align_items": null,
            "align_self": null,
            "border": null,
            "bottom": null,
            "display": null,
            "flex": null,
            "flex_flow": null,
            "grid_area": null,
            "grid_auto_columns": null,
            "grid_auto_flow": null,
            "grid_auto_rows": null,
            "grid_column": null,
            "grid_gap": null,
            "grid_row": null,
            "grid_template_areas": null,
            "grid_template_columns": null,
            "grid_template_rows": null,
            "height": null,
            "justify_content": null,
            "justify_items": null,
            "left": null,
            "margin": null,
            "max_height": null,
            "max_width": null,
            "min_height": null,
            "min_width": null,
            "object_fit": null,
            "object_position": null,
            "order": null,
            "overflow": null,
            "overflow_x": null,
            "overflow_y": null,
            "padding": null,
            "right": null,
            "top": null,
            "visibility": null,
            "width": null
          }
        },
        "d8eb61b320c44d48ab98666c1fafe926": {
          "model_module": "@jupyter-widgets/controls",
          "model_module_version": "1.5.0",
          "model_name": "HTMLModel",
          "state": {
            "_dom_classes": [],
            "_model_module": "@jupyter-widgets/controls",
            "_model_module_version": "1.5.0",
            "_model_name": "HTMLModel",
            "_view_count": null,
            "_view_module": "@jupyter-widgets/controls",
            "_view_module_version": "1.5.0",
            "_view_name": "HTMLView",
            "description": "",
            "description_tooltip": null,
            "layout": "IPY_MODEL_6d0b8d1f77854d679b8975f6778b7f07",
            "placeholder": "​",
            "style": "IPY_MODEL_0ce2fa290d8940219588534c12d8fa00",
            "value": " 513M/513M [00:13&lt;00:00, 45.2MB/s]"
          }
        },
        "d8f5fa5bcf4b469d8963dd2c38788f5e": {
          "model_module": "@jupyter-widgets/controls",
          "model_module_version": "1.5.0",
          "model_name": "DescriptionStyleModel",
          "state": {
            "_model_module": "@jupyter-widgets/controls",
            "_model_module_version": "1.5.0",
            "_model_name": "DescriptionStyleModel",
            "_view_count": null,
            "_view_module": "@jupyter-widgets/base",
            "_view_module_version": "1.2.0",
            "_view_name": "StyleView",
            "description_width": ""
          }
        },
        "db07811157fa4a25a489aa775d9a302a": {
          "model_module": "@jupyter-widgets/base",
          "model_module_version": "1.2.0",
          "model_name": "LayoutModel",
          "state": {
            "_model_module": "@jupyter-widgets/base",
            "_model_module_version": "1.2.0",
            "_model_name": "LayoutModel",
            "_view_count": null,
            "_view_module": "@jupyter-widgets/base",
            "_view_module_version": "1.2.0",
            "_view_name": "LayoutView",
            "align_content": null,
            "align_items": null,
            "align_self": null,
            "border": null,
            "bottom": null,
            "display": null,
            "flex": null,
            "flex_flow": null,
            "grid_area": null,
            "grid_auto_columns": null,
            "grid_auto_flow": null,
            "grid_auto_rows": null,
            "grid_column": null,
            "grid_gap": null,
            "grid_row": null,
            "grid_template_areas": null,
            "grid_template_columns": null,
            "grid_template_rows": null,
            "height": null,
            "justify_content": null,
            "justify_items": null,
            "left": null,
            "margin": null,
            "max_height": null,
            "max_width": null,
            "min_height": null,
            "min_width": null,
            "object_fit": null,
            "object_position": null,
            "order": null,
            "overflow": null,
            "overflow_x": null,
            "overflow_y": null,
            "padding": null,
            "right": null,
            "top": null,
            "visibility": null,
            "width": null
          }
        },
        "dc0aac3936524b99b97ec3843c3044f3": {
          "model_module": "@jupyter-widgets/controls",
          "model_module_version": "1.5.0",
          "model_name": "FloatProgressModel",
          "state": {
            "_dom_classes": [],
            "_model_module": "@jupyter-widgets/controls",
            "_model_module_version": "1.5.0",
            "_model_name": "FloatProgressModel",
            "_view_count": null,
            "_view_module": "@jupyter-widgets/controls",
            "_view_module_version": "1.5.0",
            "_view_name": "ProgressView",
            "bar_style": "success",
            "description": "",
            "description_tooltip": null,
            "layout": "IPY_MODEL_a7e1060af12a4d83b3d25f816998185e",
            "max": 1,
            "min": 0,
            "orientation": "horizontal",
            "style": "IPY_MODEL_493c980638534fffa0a4a9112c855e37",
            "value": 0
          }
        },
        "eaa8d809d9724ec08a12046e60e54402": {
          "model_module": "@jupyter-widgets/controls",
          "model_module_version": "1.5.0",
          "model_name": "HBoxModel",
          "state": {
            "_dom_classes": [],
            "_model_module": "@jupyter-widgets/controls",
            "_model_module_version": "1.5.0",
            "_model_name": "HBoxModel",
            "_view_count": null,
            "_view_module": "@jupyter-widgets/controls",
            "_view_module_version": "1.5.0",
            "_view_name": "HBoxView",
            "box_style": "",
            "children": [
              "IPY_MODEL_0c11a419a609480e8e74d4d060c57699",
              "IPY_MODEL_dc0aac3936524b99b97ec3843c3044f3",
              "IPY_MODEL_6fa97c61a42f434fa30995b85d39e7d8"
            ],
            "layout": "IPY_MODEL_2110beedab4d41e784d5a5e4927510b4"
          }
        },
        "ed05694758114d929f982a48420a1fd1": {
          "model_module": "@jupyter-widgets/controls",
          "model_module_version": "1.5.0",
          "model_name": "ProgressStyleModel",
          "state": {
            "_model_module": "@jupyter-widgets/controls",
            "_model_module_version": "1.5.0",
            "_model_name": "ProgressStyleModel",
            "_view_count": null,
            "_view_module": "@jupyter-widgets/base",
            "_view_module_version": "1.2.0",
            "_view_name": "StyleView",
            "bar_color": null,
            "description_width": ""
          }
        },
        "ee916104d61841df9cc4008a5acf81cf": {
          "model_module": "@jupyter-widgets/base",
          "model_module_version": "1.2.0",
          "model_name": "LayoutModel",
          "state": {
            "_model_module": "@jupyter-widgets/base",
            "_model_module_version": "1.2.0",
            "_model_name": "LayoutModel",
            "_view_count": null,
            "_view_module": "@jupyter-widgets/base",
            "_view_module_version": "1.2.0",
            "_view_name": "LayoutView",
            "align_content": null,
            "align_items": null,
            "align_self": null,
            "border": null,
            "bottom": null,
            "display": null,
            "flex": null,
            "flex_flow": null,
            "grid_area": null,
            "grid_auto_columns": null,
            "grid_auto_flow": null,
            "grid_auto_rows": null,
            "grid_column": null,
            "grid_gap": null,
            "grid_row": null,
            "grid_template_areas": null,
            "grid_template_columns": null,
            "grid_template_rows": null,
            "height": null,
            "justify_content": null,
            "justify_items": null,
            "left": null,
            "margin": null,
            "max_height": null,
            "max_width": null,
            "min_height": null,
            "min_width": null,
            "object_fit": null,
            "object_position": null,
            "order": null,
            "overflow": null,
            "overflow_x": null,
            "overflow_y": null,
            "padding": null,
            "right": null,
            "top": null,
            "visibility": null,
            "width": null
          }
        },
        "f6bb680548cc47b0bbd936b28e87bec6": {
          "model_module": "@jupyter-widgets/controls",
          "model_module_version": "1.5.0",
          "model_name": "DescriptionStyleModel",
          "state": {
            "_model_module": "@jupyter-widgets/controls",
            "_model_module_version": "1.5.0",
            "_model_name": "DescriptionStyleModel",
            "_view_count": null,
            "_view_module": "@jupyter-widgets/base",
            "_view_module_version": "1.2.0",
            "_view_name": "StyleView",
            "description_width": ""
          }
        },
        "f97816ad5f0a45ff9808a7128fd0b61d": {
          "model_module": "@jupyter-widgets/base",
          "model_module_version": "1.2.0",
          "model_name": "LayoutModel",
          "state": {
            "_model_module": "@jupyter-widgets/base",
            "_model_module_version": "1.2.0",
            "_model_name": "LayoutModel",
            "_view_count": null,
            "_view_module": "@jupyter-widgets/base",
            "_view_module_version": "1.2.0",
            "_view_name": "LayoutView",
            "align_content": null,
            "align_items": null,
            "align_self": null,
            "border": null,
            "bottom": null,
            "display": null,
            "flex": null,
            "flex_flow": null,
            "grid_area": null,
            "grid_auto_columns": null,
            "grid_auto_flow": null,
            "grid_auto_rows": null,
            "grid_column": null,
            "grid_gap": null,
            "grid_row": null,
            "grid_template_areas": null,
            "grid_template_columns": null,
            "grid_template_rows": null,
            "height": null,
            "justify_content": null,
            "justify_items": null,
            "left": null,
            "margin": null,
            "max_height": null,
            "max_width": null,
            "min_height": null,
            "min_width": null,
            "object_fit": null,
            "object_position": null,
            "order": null,
            "overflow": null,
            "overflow_x": null,
            "overflow_y": null,
            "padding": null,
            "right": null,
            "top": null,
            "visibility": null,
            "width": null
          }
        },
        "f9c4bfec98ca4a2081724a23049a82a3": {
          "model_module": "@jupyter-widgets/controls",
          "model_module_version": "1.5.0",
          "model_name": "DescriptionStyleModel",
          "state": {
            "_model_module": "@jupyter-widgets/controls",
            "_model_module_version": "1.5.0",
            "_model_name": "DescriptionStyleModel",
            "_view_count": null,
            "_view_module": "@jupyter-widgets/base",
            "_view_module_version": "1.2.0",
            "_view_name": "StyleView",
            "description_width": ""
          }
        },
        "fb5cf69961f04bd3b6e0bab11cef8493": {
          "model_module": "@jupyter-widgets/controls",
          "model_module_version": "1.5.0",
          "model_name": "FloatProgressModel",
          "state": {
            "_dom_classes": [],
            "_model_module": "@jupyter-widgets/controls",
            "_model_module_version": "1.5.0",
            "_model_name": "FloatProgressModel",
            "_view_count": null,
            "_view_module": "@jupyter-widgets/controls",
            "_view_module_version": "1.5.0",
            "_view_name": "ProgressView",
            "bar_style": "",
            "description": "",
            "description_tooltip": null,
            "layout": "IPY_MODEL_3e8c18cb78b8445289050cf391a75ba5",
            "max": 112330,
            "min": 0,
            "orientation": "horizontal",
            "style": "IPY_MODEL_1ddd0bbebb544c26a83d0a1e1267af44",
            "value": 12708
          }
        },
        "fc3fae0f2bb34fbdac65890d24d13ef0": {
          "model_module": "@jupyter-widgets/base",
          "model_module_version": "1.2.0",
          "model_name": "LayoutModel",
          "state": {
            "_model_module": "@jupyter-widgets/base",
            "_model_module_version": "1.2.0",
            "_model_name": "LayoutModel",
            "_view_count": null,
            "_view_module": "@jupyter-widgets/base",
            "_view_module_version": "1.2.0",
            "_view_name": "LayoutView",
            "align_content": null,
            "align_items": null,
            "align_self": null,
            "border": null,
            "bottom": null,
            "display": null,
            "flex": null,
            "flex_flow": null,
            "grid_area": null,
            "grid_auto_columns": null,
            "grid_auto_flow": null,
            "grid_auto_rows": null,
            "grid_column": null,
            "grid_gap": null,
            "grid_row": null,
            "grid_template_areas": null,
            "grid_template_columns": null,
            "grid_template_rows": null,
            "height": null,
            "justify_content": null,
            "justify_items": null,
            "left": null,
            "margin": null,
            "max_height": null,
            "max_width": null,
            "min_height": null,
            "min_width": null,
            "object_fit": null,
            "object_position": null,
            "order": null,
            "overflow": null,
            "overflow_x": null,
            "overflow_y": null,
            "padding": null,
            "right": null,
            "top": null,
            "visibility": null,
            "width": null
          }
        }
      }
    }
  },
  "nbformat": 4,
  "nbformat_minor": 0
}